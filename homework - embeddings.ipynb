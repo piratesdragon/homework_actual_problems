{
 "cells": [
  {
   "cell_type": "markdown",
   "id": "6af66482",
   "metadata": {},
   "source": [
    "#### Важное требование ко всей домашке в целом: в jupyter ноутбуке не должно был лишнего кода (т.е. если вы взяли за основу семинар, не забудьте удалить все лишнее)"
   ]
  },
  {
   "cell_type": "markdown",
   "id": "9c422aa0",
   "metadata": {},
   "source": [
    "# Задание 1 (3 балла)"
   ]
  },
  {
   "cell_type": "markdown",
   "id": "e4a72790",
   "metadata": {},
   "source": [
    "Обучите word2vec модели с негативным семплированием (cbow и skip-gram) с помощью tensorflow аналогично тому, как это было сделано в семинаре. Вам нужно изменить следующие пункты: \n",
    "1) добавьте лемматизацию в предобработку (любым способом)  \n",
    "2) измените размер окна на 6 для cbow и 12 для skip gram (обратите внимание, что размер окна = #слов слева + #слов справа, в gen_batches в семинаре window используется не так и вам нужно это  изменить!)  \n",
    "\n",
    "Выберете несколько не похожих по смыслу слов, и протестируйте полученные эмбединги (найдите ближайшие слова и оцените правильность, как в семинаре)"
   ]
  },
  {
   "cell_type": "code",
   "execution_count": 38,
   "id": "1c9ed414",
   "metadata": {},
   "outputs": [],
   "source": [
    "# %pip install tensorflow"
   ]
  },
  {
   "cell_type": "code",
   "execution_count": 39,
   "id": "cde5fd96",
   "metadata": {},
   "outputs": [],
   "source": [
    "# Импорты\n",
    "# !pip3 install tensorflow\n",
    "import tensorflow as tf\n",
    "import numpy as np\n",
    "import pandas as pd\n",
    "from string import punctuation\n",
    "from sklearn.model_selection import train_test_split\n",
    "from collections import Counter\n",
    "\n",
    "import matplotlib.pyplot as plt\n",
    "%matplotlib inline\n",
    "\n",
    "from sklearn.decomposition import TruncatedSVD\n",
    "from sklearn.feature_extraction.text import CountVectorizer\n",
    "from sklearn.metrics.pairwise import cosine_distances\n",
    "\n",
    "from tqdm import tqdm\n",
    "import re\n",
    "\n",
    "# !pip3 install pymorphy2\n",
    "import pymorphy2\n",
    "morph = pymorphy2.MorphAnalyzer()"
   ]
  },
  {
   "cell_type": "code",
   "execution_count": 5,
   "id": "4f71d7cb",
   "metadata": {},
   "outputs": [],
   "source": [
    "data = open(r'wiki_data.txt', encoding='utf-8').read().split('\\n')"
   ]
  },
  {
   "cell_type": "code",
   "execution_count": 6,
   "id": "ae5ab1e0",
   "metadata": {},
   "outputs": [],
   "source": [
    "def preprocess(text):\n",
    "    tokens = re.sub('#+', ' ', text.lower()).split()\n",
    "    tokens = [token.strip(punctuation) for token in tokens]\n",
    "    # лемматизация\n",
    "    lemmas = [morph.parse(word)[0].normal_form for word in tokens]\n",
    "    return lemmas"
   ]
  },
  {
   "cell_type": "code",
   "execution_count": 7,
   "id": "f23c2c0a",
   "metadata": {},
   "outputs": [
    {
     "name": "stderr",
     "output_type": "stream",
     "text": [
      "100%|████████████████████████████████████████████████████████████████████████████| 20003/20003 [20:29<00:00, 16.27it/s]\n"
     ]
    }
   ],
   "source": [
    "vocab = Counter()\n",
    "\n",
    "for text in tqdm(data):\n",
    "    vocab.update(preprocess(text))\n",
    "\n",
    "filtered_vocab = set()\n",
    "\n",
    "for word in vocab:\n",
    "    if vocab[word] > 30:\n",
    "        filtered_vocab.add(word)"
   ]
  },
  {
   "cell_type": "code",
   "execution_count": 23,
   "id": "d6b00f81",
   "metadata": {},
   "outputs": [],
   "source": [
    "# import pickle\n",
    "# f = open(r'file.txt', 'wb')\n",
    "# pickle.dump(vocab, f)\n",
    "# f.close()"
   ]
  },
  {
   "cell_type": "code",
   "execution_count": 9,
   "id": "714aade7",
   "metadata": {},
   "outputs": [],
   "source": [
    "word2id = {'PAD':0}\n",
    "\n",
    "for word in filtered_vocab:\n",
    "    word2id[word] = len(word2id)\n",
    "\n",
    "id2word = {i:word for word, i in word2id.items()}"
   ]
  },
  {
   "cell_type": "code",
   "execution_count": 10,
   "id": "f79bb0d1",
   "metadata": {},
   "outputs": [
    {
     "name": "stderr",
     "output_type": "stream",
     "text": [
      "100%|████████████████████████████████████████████████████████████████████████████| 20003/20003 [19:11<00:00, 17.38it/s]\n"
     ]
    }
   ],
   "source": [
    "sentences = []\n",
    "\n",
    "for text in tqdm(data):\n",
    "    tokens = preprocess(text)\n",
    "    if not tokens:\n",
    "        continue\n",
    "    ids = [word2id[token] for token in tokens if token in word2id]\n",
    "    sentences.append(ids)"
   ]
  },
  {
   "cell_type": "code",
   "execution_count": 11,
   "id": "bac80682",
   "metadata": {},
   "outputs": [],
   "source": [
    "vocab_size = len(id2word)"
   ]
  },
  {
   "cell_type": "code",
   "execution_count": 16,
   "id": "2f62c4f8",
   "metadata": {},
   "outputs": [],
   "source": [
    "# skip gram\n",
    "def gen_batches_sg(sentences, window, batch_size=512):\n",
    "    while True:\n",
    "        X_target = []\n",
    "        X_context = []\n",
    "        y = []\n",
    "\n",
    "        for sent in sentences:\n",
    "            for i in range(len(sent)-1):\n",
    "                word = sent[i]\n",
    "                context = sent[max(0, i-window//2):i] + sent[i+1:i+window//2]\n",
    "                for context_word in context:\n",
    "                    X_target.append(word)\n",
    "                    X_context.append(context_word)\n",
    "                    y.append(1)\n",
    "                    \n",
    "                    X_target.append(word)\n",
    "                    X_context.append(np.random.randint(vocab_size))\n",
    "                    y.append(0)\n",
    "                    \n",
    "                    if len(X_target) >= batch_size:\n",
    "                        X_target = np.array(X_target)\n",
    "                        X_context = np.array(X_context)\n",
    "                        y = np.array(y)\n",
    "                        yield ((X_target, X_context), y)\n",
    "                        X_target = []\n",
    "                        X_context = []\n",
    "                        y = []\n"
   ]
  },
  {
   "cell_type": "code",
   "execution_count": 13,
   "id": "f7e4a97d",
   "metadata": {},
   "outputs": [],
   "source": [
    "# skip-gram\n",
    "\n",
    "inputs_target = tf.keras.layers.Input(shape=(1,))\n",
    "inputs_context = tf.keras.layers.Input(shape=(1,))\n",
    "\n",
    "\n",
    "embeddings_target = tf.keras.layers.Embedding(input_dim=len(word2id), output_dim=300)(inputs_target, )\n",
    "embeddings_context = tf.keras.layers.Embedding(input_dim=len(word2id), output_dim=300)(inputs_context, )\n",
    "\n",
    "target = tf.keras.layers.Flatten()(embeddings_target)\n",
    "context = tf.keras.layers.Flatten()(embeddings_context)\n",
    "\n",
    "dot = tf.keras.layers.Dot(1)([target, context])\n",
    "outputs = tf.keras.layers.Activation(activation='sigmoid')(dot)\n",
    "\n",
    "model = tf.keras.Model(inputs=[inputs_target, inputs_context], \n",
    "                       outputs=outputs)\n",
    "optimizer = tf.keras.optimizers.Adam(learning_rate=0.001)\n",
    "model.compile(optimizer=optimizer,\n",
    "              loss='binary_crossentropy',\n",
    "              metrics=['accuracy'])"
   ]
  },
  {
   "cell_type": "code",
   "execution_count": 17,
   "id": "298cfc79",
   "metadata": {},
   "outputs": [
    {
     "name": "stdout",
     "output_type": "stream",
     "text": [
      "Epoch 1/3\n",
      "3000/3000 [==============================] - 381s 127ms/step - loss: 0.3770 - accuracy: 0.8312 - val_loss: 0.5438 - val_accuracy: 0.7808\n",
      "Epoch 2/3\n",
      "3000/3000 [==============================] - 365s 122ms/step - loss: 0.3724 - accuracy: 0.8335 - val_loss: 0.5696 - val_accuracy: 0.7677\n",
      "Epoch 3/3\n",
      "3000/3000 [==============================] - 368s 123ms/step - loss: 0.3834 - accuracy: 0.8304 - val_loss: 0.4201 - val_accuracy: 0.8295\n"
     ]
    },
    {
     "data": {
      "text/plain": [
       "<keras.callbacks.History at 0x21015b04ee0>"
      ]
     },
     "execution_count": 17,
     "metadata": {},
     "output_type": "execute_result"
    }
   ],
   "source": [
    "model.fit(gen_batches_sg(sentences[:19000], window=12),\n",
    "          validation_data=gen_batches_sg(sentences[19000:],  window=12),\n",
    "          batch_size=512,\n",
    "          steps_per_epoch=3000,\n",
    "          validation_steps=30,\n",
    "         epochs=3)"
   ]
  },
  {
   "cell_type": "code",
   "execution_count": 18,
   "id": "71fe1912",
   "metadata": {},
   "outputs": [],
   "source": [
    "embeddings1 = model.layers[2].get_weights()[0]"
   ]
  },
  {
   "cell_type": "code",
   "execution_count": 19,
   "id": "c58e5b3c",
   "metadata": {},
   "outputs": [],
   "source": [
    "def most_similar(word, embeddings):\n",
    "    similar = [id2word[i] for i in \n",
    "               cosine_distances(embeddings[word2id[word]].reshape(1, -1), embeddings).argsort()[0][:10]]\n",
    "    return similar"
   ]
  },
  {
   "cell_type": "code",
   "execution_count": 24,
   "id": "da1086f8",
   "metadata": {},
   "outputs": [
    {
     "data": {
      "text/plain": [
       "['тайна',\n",
       " 'эмоция',\n",
       " 'будто',\n",
       " 'маг',\n",
       " 'различаться',\n",
       " 'приобретать',\n",
       " 'земледелие',\n",
       " 'коллега',\n",
       " 'тенденция',\n",
       " 'видеть']"
      ]
     },
     "execution_count": 24,
     "metadata": {},
     "output_type": "execute_result"
    }
   ],
   "source": [
    "most_similar('тайна', embeddings1)"
   ]
  },
  {
   "cell_type": "code",
   "execution_count": 21,
   "id": "810e2196",
   "metadata": {},
   "outputs": [
    {
     "data": {
      "text/plain": [
       "['студент',\n",
       " 'курс',\n",
       " 'политехнический',\n",
       " 'учиться',\n",
       " 'иностранный',\n",
       " 'ученик',\n",
       " 'окончить',\n",
       " 'математика',\n",
       " 'преподавать',\n",
       " 'профессор']"
      ]
     },
     "execution_count": 21,
     "metadata": {},
     "output_type": "execute_result"
    }
   ],
   "source": [
    "most_similar('студент', embeddings1)"
   ]
  },
  {
   "cell_type": "code",
   "execution_count": 28,
   "id": "c229e716",
   "metadata": {},
   "outputs": [
    {
     "data": {
      "text/plain": [
       "['город',\n",
       " 'столица',\n",
       " 'празднование',\n",
       " 'провинция',\n",
       " 'набережная',\n",
       " 'военнослужащий',\n",
       " 'территория',\n",
       " 'участок',\n",
       " 'старое',\n",
       " 'разрушить']"
      ]
     },
     "execution_count": 28,
     "metadata": {},
     "output_type": "execute_result"
    }
   ],
   "source": [
    "most_similar('город', embeddings1)"
   ]
  },
  {
   "cell_type": "markdown",
   "id": "e94a1912",
   "metadata": {},
   "source": [
    "В целом, модель выдает неплохие результаты - для \"студента\" все ближайшие слова действительно близки по смыслу/контексту, для \"города\" и \"тайны\" чуть хуже."
   ]
  },
  {
   "cell_type": "code",
   "execution_count": 36,
   "id": "75529a4f",
   "metadata": {},
   "outputs": [],
   "source": [
    "# # cbow \n",
    "def gen_batches_cbow(sentences, window = 6, batch_size=512):\n",
    "    while True:\n",
    "        X_target = []\n",
    "        X_context = []\n",
    "        y = []\n",
    "\n",
    "        for sent in sentences:\n",
    "            for i in range(len(sent)-1):\n",
    "                word = sent[i]\n",
    "                context = sent[max(0, i-window//2):i] + sent[i+1:i+window//2]\n",
    "\n",
    "                X_target.append(word)\n",
    "                X_context.append(context)\n",
    "                y.append(1)\n",
    "                \n",
    "                X_target.append(np.random.randint(vocab_size))\n",
    "                X_context.append(context)\n",
    "                y.append(0)\n",
    "\n",
    "                if len(X_target) == batch_size:\n",
    "                    X_target = np.array(X_target)\n",
    "                    X_context = tf.keras.preprocessing.sequence.pad_sequences(X_context, maxlen=window*2)\n",
    "                    y = np.array(y)\n",
    "                    yield ((X_target, X_context), y)\n",
    "                    X_target = []\n",
    "                    X_context = []\n",
    "                    y = []"
   ]
  },
  {
   "cell_type": "code",
   "execution_count": 37,
   "id": "a3073a9d",
   "metadata": {},
   "outputs": [],
   "source": [
    "#cbow negative sampling\n",
    "inputs_target = tf.keras.layers.Input(shape=(1,))\n",
    "inputs_context = tf.keras.layers.Input(shape=(10,))\n",
    "\n",
    "\n",
    "embeddings_target = tf.keras.layers.Embedding(input_dim=len(word2id), output_dim=300)(inputs_target, )\n",
    "embeddings_context = tf.keras.layers.Embedding(input_dim=len(word2id), output_dim=300)(inputs_context, )\n",
    "\n",
    "target = tf.keras.layers.Flatten()(embeddings_target)\n",
    "context = tf.keras.layers.Lambda(lambda x: tf.keras.backend.sum(x, axis=1))(embeddings_context)\n",
    "dot = tf.keras.layers.Dot(1)([target, context])\n",
    "\n",
    "outputs = tf.keras.layers.Activation(activation='sigmoid')(dot)\n",
    "\n",
    "model = tf.keras.Model(inputs=[inputs_target, inputs_context], \n",
    "                       outputs=outputs)\n",
    "\n",
    "\n",
    "optimizer = tf.keras.optimizers.Adam(learning_rate=0.001)\n",
    "model.compile(optimizer=optimizer,\n",
    "              loss='binary_crossentropy',\n",
    "              metrics=['accuracy'])\n"
   ]
  },
  {
   "cell_type": "code",
   "execution_count": 38,
   "id": "cddfc4b9",
   "metadata": {},
   "outputs": [
    {
     "name": "stdout",
     "output_type": "stream",
     "text": [
      "Epoch 1/3\n",
      "3000/3000 [==============================] - 393s 130ms/step - loss: 0.4015 - accuracy: 0.8230 - val_loss: 0.4306 - val_accuracy: 0.8335\n",
      "Epoch 2/3\n",
      "3000/3000 [==============================] - 402s 134ms/step - loss: 0.3330 - accuracy: 0.8612 - val_loss: 0.3483 - val_accuracy: 0.8713\n",
      "Epoch 3/3\n",
      "3000/3000 [==============================] - 381s 127ms/step - loss: 0.2938 - accuracy: 0.8799 - val_loss: 0.3423 - val_accuracy: 0.8693\n"
     ]
    },
    {
     "data": {
      "text/plain": [
       "<keras.callbacks.History at 0x2101efc5330>"
      ]
     },
     "execution_count": 38,
     "metadata": {},
     "output_type": "execute_result"
    }
   ],
   "source": [
    "model.fit(gen_batches_cbow(sentences[:19000], window=6),\n",
    "          validation_data=gen_batches_cbow(sentences[19000:],  window=6),\n",
    "          batch_size=512,\n",
    "          steps_per_epoch=3000,\n",
    "          validation_steps=30,\n",
    "         epochs=3)"
   ]
  },
  {
   "cell_type": "code",
   "execution_count": 39,
   "id": "7b755e46",
   "metadata": {},
   "outputs": [],
   "source": [
    "embeddings2 = model.layers[2].get_weights()[0]"
   ]
  },
  {
   "cell_type": "code",
   "execution_count": 40,
   "id": "6df58618",
   "metadata": {},
   "outputs": [
    {
     "data": {
      "text/plain": [
       "['тайна',\n",
       " 'мистический',\n",
       " 'мистер',\n",
       " '«от',\n",
       " 'загадочный',\n",
       " 'тим',\n",
       " 'детектив',\n",
       " 'вампир',\n",
       " 'миссис',\n",
       " 'идол']"
      ]
     },
     "execution_count": 40,
     "metadata": {},
     "output_type": "execute_result"
    }
   ],
   "source": [
    "most_similar('тайна', embeddings2)"
   ]
  },
  {
   "cell_type": "code",
   "execution_count": 41,
   "id": "fe6556ed",
   "metadata": {},
   "outputs": [
    {
     "data": {
      "text/plain": [
       "['студент',\n",
       " 'факультет',\n",
       " 'медицинский',\n",
       " 'университет',\n",
       " 'вуз',\n",
       " 'преподаватель',\n",
       " 'университетский',\n",
       " 'выпускник',\n",
       " 'ректор',\n",
       " 'обучение']"
      ]
     },
     "execution_count": 41,
     "metadata": {},
     "output_type": "execute_result"
    }
   ],
   "source": [
    "most_similar('студент', embeddings2)"
   ]
  },
  {
   "cell_type": "code",
   "execution_count": 42,
   "id": "9528263c",
   "metadata": {},
   "outputs": [
    {
     "data": {
      "text/plain": [
       "['город', 'и', 'в', 'который', 'он', 'на', 'быть', 'год', 'по', 'из']"
      ]
     },
     "execution_count": 42,
     "metadata": {},
     "output_type": "execute_result"
    }
   ],
   "source": [
    "most_similar('город', embeddings2)"
   ]
  },
  {
   "cell_type": "markdown",
   "id": "9fec5c88",
   "metadata": {},
   "source": [
    "В целом и cbow, и skipgram выдают похожие слова - интересно, что для \"студента\" они стабильно отличные (пробовала считать для семинарской \"церкви\" - для нее тоже выдает похожее на то, что было в семинаре), а вот некоторые более бытовые слова показывают результаты хуже - скорее всего, связано со спецификой корпуса."
   ]
  },
  {
   "cell_type": "markdown",
   "id": "c3b61b7c",
   "metadata": {},
   "source": [
    "# Задание 2 (3 балла)"
   ]
  },
  {
   "cell_type": "markdown",
   "id": "66eff080",
   "metadata": {},
   "source": [
    "Обучите 1 word2vec и 1 fastext модель в gensim. В каждой из модели нужно задать все параметры, которые мы разбирали на семинаре. Заданные значения должны отличаться от дефолтных и от тех, что мы использовали на семинаре."
   ]
  },
  {
   "cell_type": "code",
   "execution_count": 40,
   "id": "986c2018",
   "metadata": {},
   "outputs": [],
   "source": [
    "# !pip install gensim\n",
    "import gensim"
   ]
  },
  {
   "cell_type": "code",
   "execution_count": 45,
   "id": "e5035bdc",
   "metadata": {},
   "outputs": [],
   "source": [
    "def preprocess(text):\n",
    "    tokens = re.sub('#+', ' ', text.lower()).split()\n",
    "    tokens = [token.strip(punctuation) for token in tokens]\n",
    "    tokens = [token for token in tokens if token]\n",
    "    return tokens"
   ]
  },
  {
   "cell_type": "code",
   "execution_count": 49,
   "id": "278ad10f",
   "metadata": {},
   "outputs": [],
   "source": [
    "wiki = open(r'wiki_data.txt', encoding='utf-8').read().split('\\n')\n",
    "texts = [preprocess(text) for text in wiki]"
   ]
  },
  {
   "cell_type": "code",
   "execution_count": 50,
   "id": "f82b9045",
   "metadata": {},
   "outputs": [],
   "source": [
    "from gensim.models import Word2Vec"
   ]
  },
  {
   "cell_type": "code",
   "execution_count": 52,
   "id": "1e6e6820",
   "metadata": {},
   "outputs": [],
   "source": [
    "# Word2Vec\n",
    "\n",
    "# Почему-то colab считает vector_size не принадлежащим __init__ в word2vec - \n",
    "# зато устаревший size принимает, хотя, по идее, должно быть наоброт. В jupyter все хорошо.\n",
    "w2v = gensim.models.Word2Vec(texts, \n",
    "                             vector_size=100, \n",
    "                             min_count=10, \n",
    "                             max_vocab_size=12000,\n",
    "                             window=7,\n",
    "                             epochs=10,\n",
    "                             sg=0,\n",
    "                             hs=1, \n",
    "                             sample=1e-4,\n",
    "                             ns_exponent=0.92, \n",
    "                             cbow_mean=0)"
   ]
  },
  {
   "cell_type": "code",
   "execution_count": 56,
   "id": "247dbbde",
   "metadata": {},
   "outputs": [
    {
     "data": {
      "text/plain": [
       "[('провинции', 0.7833091616630554),\n",
       " ('центр', 0.7729331254959106),\n",
       " ('города', 0.7619381546974182),\n",
       " ('коммуны', 0.7433444857597351),\n",
       " ('округ', 0.7151840329170227),\n",
       " ('расположен', 0.6984953284263611),\n",
       " ('и', 0.6976277232170105),\n",
       " ('в', 0.6948266625404358),\n",
       " ('уезд', 0.6899014115333557),\n",
       " ('а', 0.6891608238220215)]"
      ]
     },
     "execution_count": 56,
     "metadata": {},
     "output_type": "execute_result"
    }
   ],
   "source": [
    "w2v.wv.most_similar('город')"
   ]
  },
  {
   "cell_type": "code",
   "execution_count": 57,
   "id": "2911a7d6",
   "metadata": {},
   "outputs": [],
   "source": [
    "# FastText\n",
    "ft = gensim.models.FastText(texts, min_n=2, max_n=7)"
   ]
  },
  {
   "cell_type": "code",
   "execution_count": 58,
   "id": "605cfb41",
   "metadata": {},
   "outputs": [
    {
     "data": {
      "text/plain": [
       "[('конвейер', 0.9040170907974243),\n",
       " ('контур', 0.8901160359382629),\n",
       " ('контроллер', 0.8791548609733582),\n",
       " ('контент', 0.8753628730773926),\n",
       " ('контингент', 0.867443859577179),\n",
       " ('кондиционер', 0.8651267886161804),\n",
       " ('коннор', 0.8608549237251282),\n",
       " ('корриентес', 0.8562175631523132),\n",
       " ('контрерас', 0.8540083765983582),\n",
       " ('кондор', 0.8489197492599487)]"
      ]
     },
     "execution_count": 58,
     "metadata": {},
     "output_type": "execute_result"
    }
   ],
   "source": [
    "ft.wv.most_similar(\"контейнер\")"
   ]
  },
  {
   "cell_type": "code",
   "execution_count": 59,
   "id": "ec22bb4d",
   "metadata": {},
   "outputs": [
    {
     "data": {
      "text/plain": [
       "[('тайфуна', 0.9661746621131897),\n",
       " ('тайсона', 0.9281504154205322),\n",
       " ('тумана', 0.9098391532897949),\n",
       " ('таксона', 0.8943200707435608),\n",
       " ('титана', 0.8880762457847595),\n",
       " ('тайма', 0.8845145106315613),\n",
       " ('тина', 0.8799522519111633),\n",
       " ('тона', 0.873836100101471),\n",
       " ('торна', 0.8729273676872253),\n",
       " ('тонна', 0.8717372417449951)]"
      ]
     },
     "execution_count": 59,
     "metadata": {},
     "output_type": "execute_result"
    }
   ],
   "source": [
    "ft.wv.most_similar(\"тайна\")"
   ]
  },
  {
   "cell_type": "code",
   "execution_count": 60,
   "id": "8f0b2b7e",
   "metadata": {},
   "outputs": [
    {
     "data": {
      "text/plain": [
       "[('студенец', 0.8681114912033081),\n",
       " ('стипендиат', 0.8448348045349121),\n",
       " ('спецагент', 0.823511004447937),\n",
       " ('аттестат', 0.8127027750015259),\n",
       " ('манифест', 0.7976201176643372),\n",
       " ('дентат', 0.7910749912261963),\n",
       " ('студенок', 0.7907235622406006),\n",
       " ('претендент', 0.7829762697219849),\n",
       " ('акцент', 0.7798030376434326),\n",
       " ('суккулент', 0.7777469754219055)]"
      ]
     },
     "execution_count": 60,
     "metadata": {},
     "output_type": "execute_result"
    }
   ],
   "source": [
    "ft.wv.most_similar(\"студент\")"
   ]
  },
  {
   "cell_type": "markdown",
   "id": "083bb45f",
   "metadata": {},
   "source": [
    "Модель fast text выдала просто внешне похожие слова, а модель word2vec и правда похожие по смыслу - видно, что в fasttext используются символьные n-граммы. С такими параметрами модель word2vec выдает результаты лучше."
   ]
  },
  {
   "cell_type": "markdown",
   "id": "e4bb928c",
   "metadata": {},
   "source": [
    "# Задание 3 (4 балла)"
   ]
  },
  {
   "cell_type": "markdown",
   "id": "3019b0d1",
   "metadata": {},
   "source": [
    "Используя датасет для классификации (labeled.csv) и простую нейронную сеть (последняя модель в семинаре), оцените качество полученных эмбедингов в задании 1 и 2 (4 набора эмбедингов), также проверьте 1 любую из предобученных моделей с rus-vectores (но только не tayga_upos_skipgram_300_2_2019). \n",
    "Какая модель показывает наилучший результат?\n",
    "\n",
    "Убедитесь, что для каждой модели вы корректно воспроизводите пайплайн предобработки (в 1 задании у вас лемматизация, не забудьте ее применить к датасету для классификации; у выбранной предобученной модели может быть своя специфичная предобработка - ее нужно воспроизвести)"
   ]
  },
  {
   "cell_type": "code",
   "execution_count": 30,
   "id": "64038b39",
   "metadata": {},
   "outputs": [],
   "source": [
    "def preprocess(text):\n",
    "    tokens = re.sub('#+', ' ', text.lower()).split()\n",
    "    tokens = [token.strip(punctuation) for token in tokens]\n",
    "    # лемматизация\n",
    "    lemmas = [morph.parse(word)[0].normal_form for word in tokens]\n",
    "    return lemmas"
   ]
  },
  {
   "cell_type": "code",
   "execution_count": 4,
   "id": "ed908832",
   "metadata": {},
   "outputs": [],
   "source": [
    "data = pd.read_csv('labeled.csv')\n",
    "data['norm_text'] = data.comment.apply(preprocess)"
   ]
  },
  {
   "cell_type": "code",
   "execution_count": 31,
   "id": "6b1b9590",
   "metadata": {},
   "outputs": [
    {
     "data": {
      "text/html": [
       "<div>\n",
       "<style scoped>\n",
       "    .dataframe tbody tr th:only-of-type {\n",
       "        vertical-align: middle;\n",
       "    }\n",
       "\n",
       "    .dataframe tbody tr th {\n",
       "        vertical-align: top;\n",
       "    }\n",
       "\n",
       "    .dataframe thead th {\n",
       "        text-align: right;\n",
       "    }\n",
       "</style>\n",
       "<table border=\"1\" class=\"dataframe\">\n",
       "  <thead>\n",
       "    <tr style=\"text-align: right;\">\n",
       "      <th></th>\n",
       "      <th>comment</th>\n",
       "      <th>toxic</th>\n",
       "      <th>norm_text</th>\n",
       "      <th>extra</th>\n",
       "    </tr>\n",
       "  </thead>\n",
       "  <tbody>\n",
       "    <tr>\n",
       "      <th>0</th>\n",
       "      <td>Верблюдов-то за что? Дебилы, бл...\\r\\n</td>\n",
       "      <td>1.0</td>\n",
       "      <td>[верблюд-то, за, что, дебил, бл]</td>\n",
       "      <td>[верблюд_NOUN, то_PART, за_ADP, что_PRON, деби...</td>\n",
       "    </tr>\n",
       "    <tr>\n",
       "      <th>1</th>\n",
       "      <td>Хохлы, это отдушина затюканого россиянина, мол...</td>\n",
       "      <td>1.0</td>\n",
       "      <td>[хохол, это, отдушина, затюканый, россиянин, м...</td>\n",
       "      <td>[хохол_NOUN, это_PART, отдушина_NOUN, затюканы...</td>\n",
       "    </tr>\n",
       "    <tr>\n",
       "      <th>2</th>\n",
       "      <td>Собаке - собачья смерть\\r\\n</td>\n",
       "      <td>1.0</td>\n",
       "      <td>[собака, , собачий, смерть]</td>\n",
       "      <td>[собака_NOUN, собачий_ADJ, смерть_NOUN]</td>\n",
       "    </tr>\n",
       "    <tr>\n",
       "      <th>3</th>\n",
       "      <td>Страницу обнови, дебил. Это тоже не оскорблени...</td>\n",
       "      <td>1.0</td>\n",
       "      <td>[страница, обновить, дебил, это, тоже, не, оск...</td>\n",
       "      <td>[страница_NOUN, обновлять_VERB, дебил_NOUN, эт...</td>\n",
       "    </tr>\n",
       "    <tr>\n",
       "      <th>4</th>\n",
       "      <td>тебя не убедил 6-страничный пдф в том, что Скр...</td>\n",
       "      <td>1.0</td>\n",
       "      <td>[ты, не, убедить, 6-страничный, пдф, в, тот, ч...</td>\n",
       "      <td>[ты_PRON, не_PART, убеждать_VERB, страничный_A...</td>\n",
       "    </tr>\n",
       "  </tbody>\n",
       "</table>\n",
       "</div>"
      ],
      "text/plain": [
       "                                             comment  toxic  \\\n",
       "0             Верблюдов-то за что? Дебилы, бл...\\r\\n    1.0   \n",
       "1  Хохлы, это отдушина затюканого россиянина, мол...    1.0   \n",
       "2                        Собаке - собачья смерть\\r\\n    1.0   \n",
       "3  Страницу обнови, дебил. Это тоже не оскорблени...    1.0   \n",
       "4  тебя не убедил 6-страничный пдф в том, что Скр...    1.0   \n",
       "\n",
       "                                           norm_text  \\\n",
       "0                   [верблюд-то, за, что, дебил, бл]   \n",
       "1  [хохол, это, отдушина, затюканый, россиянин, м...   \n",
       "2                        [собака, , собачий, смерть]   \n",
       "3  [страница, обновить, дебил, это, тоже, не, оск...   \n",
       "4  [ты, не, убедить, 6-страничный, пдф, в, тот, ч...   \n",
       "\n",
       "                                               extra  \n",
       "0  [верблюд_NOUN, то_PART, за_ADP, что_PRON, деби...  \n",
       "1  [хохол_NOUN, это_PART, отдушина_NOUN, затюканы...  \n",
       "2            [собака_NOUN, собачий_ADJ, смерть_NOUN]  \n",
       "3  [страница_NOUN, обновлять_VERB, дебил_NOUN, эт...  \n",
       "4  [ты_PRON, не_PART, убеждать_VERB, страничный_A...  "
      ]
     },
     "execution_count": 31,
     "metadata": {},
     "output_type": "execute_result"
    }
   ],
   "source": [
    "data.head()"
   ]
  },
  {
   "cell_type": "code",
   "execution_count": 32,
   "id": "60c18c5a",
   "metadata": {},
   "outputs": [
    {
     "data": {
      "text/plain": [
       "6309"
      ]
     },
     "execution_count": 32,
     "metadata": {},
     "output_type": "execute_result"
    }
   ],
   "source": [
    "vocab = Counter()\n",
    "\n",
    "for text in data['norm_text']:\n",
    "    vocab.update(text)\n",
    "    \n",
    "filtered_vocab = set()\n",
    "\n",
    "for word in vocab:\n",
    "    if vocab[word] > 5:\n",
    "        filtered_vocab.add(word)\n",
    "\n",
    "len(filtered_vocab)"
   ]
  },
  {
   "cell_type": "code",
   "execution_count": 33,
   "id": "1d414cdb",
   "metadata": {},
   "outputs": [],
   "source": [
    "word2id = { 'PAD':0}\n",
    "\n",
    "for word in filtered_vocab:\n",
    "    word2id[word] = len(word2id)\n",
    "id2word = {i:word for word, i in word2id.items()}"
   ]
  },
  {
   "cell_type": "code",
   "execution_count": 34,
   "id": "0d1a3e39",
   "metadata": {},
   "outputs": [],
   "source": [
    "X = []\n",
    "\n",
    "for tokens in data['norm_text']:\n",
    "    ids = [word2id[token] for token in tokens if token in word2id]\n",
    "    X.append(ids)"
   ]
  },
  {
   "cell_type": "code",
   "execution_count": 205,
   "id": "7ad23bd2",
   "metadata": {},
   "outputs": [
    {
     "data": {
      "text/plain": [
       "14412"
      ]
     },
     "execution_count": 205,
     "metadata": {},
     "output_type": "execute_result"
    }
   ],
   "source": [
    "len(X)"
   ]
  },
  {
   "cell_type": "code",
   "execution_count": 35,
   "id": "56a33668",
   "metadata": {
    "collapsed": true
   },
   "outputs": [
    {
     "ename": "NameError",
     "evalue": "name 'ft' is not defined",
     "output_type": "error",
     "traceback": [
      "\u001b[1;31m---------------------------------------------------------------------------\u001b[0m",
      "\u001b[1;31mNameError\u001b[0m                                 Traceback (most recent call last)",
      "\u001b[1;32m~\\AppData\\Local\\Temp/ipykernel_26600/4040606839.py\u001b[0m in \u001b[0;36m<module>\u001b[1;34m\u001b[0m\n\u001b[0;32m     12\u001b[0m \u001b[1;33m\u001b[0m\u001b[0m\n\u001b[0;32m     13\u001b[0m     \u001b[1;32mtry\u001b[0m\u001b[1;33m:\u001b[0m\u001b[1;33m\u001b[0m\u001b[1;33m\u001b[0m\u001b[0m\n\u001b[1;32m---> 14\u001b[1;33m         \u001b[0mweights\u001b[0m\u001b[1;33m[\u001b[0m\u001b[0mi\u001b[0m\u001b[1;33m]\u001b[0m \u001b[1;33m=\u001b[0m \u001b[0mft\u001b[0m\u001b[1;33m.\u001b[0m\u001b[0mwv\u001b[0m\u001b[1;33m[\u001b[0m\u001b[0mword\u001b[0m\u001b[1;33m]\u001b[0m\u001b[1;33m\u001b[0m\u001b[1;33m\u001b[0m\u001b[0m\n\u001b[0m\u001b[0;32m     15\u001b[0m \u001b[1;33m\u001b[0m\u001b[0m\n\u001b[0;32m     16\u001b[0m     \u001b[1;32mexcept\u001b[0m \u001b[0mKeyError\u001b[0m\u001b[1;33m:\u001b[0m\u001b[1;33m\u001b[0m\u001b[1;33m\u001b[0m\u001b[0m\n",
      "\u001b[1;31mNameError\u001b[0m: name 'ft' is not defined"
     ]
    }
   ],
   "source": [
    "# FastText Classifier\n",
    "X_ft = tf.keras.preprocessing.sequence.pad_sequences(X, maxlen=100)\n",
    "y_ft = data.toxic.values\n",
    "\n",
    "X_train_ft, X_test_ft, y_train_ft, y_test_ft = train_test_split(X_ft, y_ft, test_size=0.1)\n",
    "\n",
    "weights = np.zeros((len(word2id), 100))\n",
    "\n",
    "for word, i in word2id.items():\n",
    "    if word == 'PAD':\n",
    "        continue\n",
    "\n",
    "    try:\n",
    "        weights[i] = ft.wv[word]\n",
    "    \n",
    "    except KeyError:\n",
    "        continue\n",
    "        weights[i] = ft.wv['втжлыою']\n",
    "        \n",
    "inputs = tf.keras.layers.Input(shape=(100,))\n",
    "embeddings = tf.keras.layers.Embedding(input_dim=len(word2id), output_dim=100, \n",
    "                                        trainable=False,\n",
    "                                        weights=[weights])(inputs, )\n",
    "mean = tf.keras.layers.Lambda(lambda x: tf.keras.backend.mean(x,  axis=1))(embeddings)\n",
    "\n",
    "outputs = tf.keras.layers.Dense(1, activation='sigmoid')(mean)\n",
    "\n",
    "ft_classifier = tf.keras.Model(inputs=inputs, outputs=outputs)\n",
    "optimizer = tf.keras.optimizers.Adam()\n",
    "ft_classifier.compile(optimizer=optimizer,\n",
    "                loss='binary_crossentropy',\n",
    "                metrics=['accuracy'])\n",
    "  \n",
    "\n",
    "ft_classifier.fit(X_train_ft, y_train_ft, \n",
    "          validation_data=(X_test_ft, y_test_ft),\n",
    "          batch_size=32,\n",
    "         epochs=30)"
   ]
  },
  {
   "cell_type": "code",
   "execution_count": 119,
   "id": "2f7ec1be",
   "metadata": {},
   "outputs": [
    {
     "name": "stdout",
     "output_type": "stream",
     "text": [
      "dict_keys(['loss', 'accuracy', 'val_loss', 'val_accuracy'])\n"
     ]
    },
    {
     "data": {
      "image/png": "[encoded data removed]",
      "text/plain": [
       "<Figure size 432x288 with 1 Axes>"
      ]
     },
     "metadata": {
      "needs_background": "light"
     },
     "output_type": "display_data"
    }
   ],
   "source": [
    "print(ft_classifier.history.history.keys())\n",
    "\n",
    "acc1= ft_classifier.history.history['accuracy'][-1]\n",
    "plt.plot(ft_classifier.history.history['accuracy'])\n",
    "plt.plot(ft_classifier.history.history['val_accuracy'])\n",
    "plt.title('model accuracy')\n",
    "plt.ylabel('accuracy')\n",
    "plt.xlabel('epoch')\n",
    "plt.legend(['train', 'val'], loc='upper left')\n",
    "plt.show()"
   ]
  },
  {
   "cell_type": "code",
   "execution_count": 166,
   "id": "08ec268b",
   "metadata": {
    "collapsed": true
   },
   "outputs": [
    {
     "name": "stdout",
     "output_type": "stream",
     "text": [
      "Epoch 1/30\n",
      "406/406 [==============================] - 2s 3ms/step - loss: 0.6426 - accuracy: 0.6636 - val_loss: 0.6177 - val_accuracy: 0.6789\n",
      "Epoch 2/30\n",
      "406/406 [==============================] - 1s 2ms/step - loss: 0.6173 - accuracy: 0.6636 - val_loss: 0.6119 - val_accuracy: 0.6789\n",
      "Epoch 3/30\n",
      "406/406 [==============================] - 1s 2ms/step - loss: 0.6153 - accuracy: 0.6636 - val_loss: 0.6114 - val_accuracy: 0.6789\n",
      "Epoch 4/30\n",
      "406/406 [==============================] - 1s 2ms/step - loss: 0.6147 - accuracy: 0.6636 - val_loss: 0.6116 - val_accuracy: 0.6789\n",
      "Epoch 5/30\n",
      "406/406 [==============================] - 1s 2ms/step - loss: 0.6143 - accuracy: 0.6636 - val_loss: 0.6113 - val_accuracy: 0.6789\n",
      "Epoch 6/30\n",
      "406/406 [==============================] - 1s 2ms/step - loss: 0.6140 - accuracy: 0.6636 - val_loss: 0.6113 - val_accuracy: 0.6789\n",
      "Epoch 7/30\n",
      "406/406 [==============================] - 1s 2ms/step - loss: 0.6137 - accuracy: 0.6636 - val_loss: 0.6112 - val_accuracy: 0.6789\n",
      "Epoch 8/30\n",
      "406/406 [==============================] - 1s 2ms/step - loss: 0.6134 - accuracy: 0.6636 - val_loss: 0.6111 - val_accuracy: 0.6789\n",
      "Epoch 9/30\n",
      "406/406 [==============================] - 1s 2ms/step - loss: 0.6131 - accuracy: 0.6636 - val_loss: 0.6111 - val_accuracy: 0.6789\n",
      "Epoch 10/30\n",
      "406/406 [==============================] - 1s 2ms/step - loss: 0.6128 - accuracy: 0.6636 - val_loss: 0.6110 - val_accuracy: 0.6789\n",
      "Epoch 11/30\n",
      "406/406 [==============================] - 1s 2ms/step - loss: 0.6125 - accuracy: 0.6636 - val_loss: 0.6108 - val_accuracy: 0.6789\n",
      "Epoch 12/30\n",
      "406/406 [==============================] - 1s 2ms/step - loss: 0.6122 - accuracy: 0.6636 - val_loss: 0.6106 - val_accuracy: 0.6789\n",
      "Epoch 13/30\n",
      "406/406 [==============================] - 1s 2ms/step - loss: 0.6120 - accuracy: 0.6636 - val_loss: 0.6105 - val_accuracy: 0.6789\n",
      "Epoch 14/30\n",
      "406/406 [==============================] - 1s 2ms/step - loss: 0.6117 - accuracy: 0.6636 - val_loss: 0.6104 - val_accuracy: 0.6789\n",
      "Epoch 15/30\n",
      "406/406 [==============================] - 1s 2ms/step - loss: 0.6115 - accuracy: 0.6636 - val_loss: 0.6100 - val_accuracy: 0.6789\n",
      "Epoch 16/30\n",
      "406/406 [==============================] - 1s 2ms/step - loss: 0.6112 - accuracy: 0.6636 - val_loss: 0.6098 - val_accuracy: 0.6789\n",
      "Epoch 17/30\n",
      "406/406 [==============================] - 1s 2ms/step - loss: 0.6109 - accuracy: 0.6636 - val_loss: 0.6097 - val_accuracy: 0.6789\n",
      "Epoch 18/30\n",
      "406/406 [==============================] - 1s 2ms/step - loss: 0.6107 - accuracy: 0.6636 - val_loss: 0.6095 - val_accuracy: 0.6789\n",
      "Epoch 19/30\n",
      "406/406 [==============================] - 1s 2ms/step - loss: 0.6104 - accuracy: 0.6636 - val_loss: 0.6094 - val_accuracy: 0.6789\n",
      "Epoch 20/30\n",
      "406/406 [==============================] - 1s 2ms/step - loss: 0.6102 - accuracy: 0.6636 - val_loss: 0.6092 - val_accuracy: 0.6789\n",
      "Epoch 21/30\n",
      "406/406 [==============================] - 1s 2ms/step - loss: 0.6099 - accuracy: 0.6636 - val_loss: 0.6090 - val_accuracy: 0.6789\n",
      "Epoch 22/30\n",
      "406/406 [==============================] - 1s 2ms/step - loss: 0.6097 - accuracy: 0.6636 - val_loss: 0.6088 - val_accuracy: 0.6789\n",
      "Epoch 23/30\n",
      "406/406 [==============================] - 1s 2ms/step - loss: 0.6094 - accuracy: 0.6636 - val_loss: 0.6086 - val_accuracy: 0.6789\n",
      "Epoch 24/30\n",
      "406/406 [==============================] - 1s 2ms/step - loss: 0.6092 - accuracy: 0.6636 - val_loss: 0.6085 - val_accuracy: 0.6789\n",
      "Epoch 25/30\n",
      "406/406 [==============================] - 1s 2ms/step - loss: 0.6090 - accuracy: 0.6636 - val_loss: 0.6084 - val_accuracy: 0.6789\n",
      "Epoch 26/30\n",
      "406/406 [==============================] - 1s 2ms/step - loss: 0.6087 - accuracy: 0.6636 - val_loss: 0.6081 - val_accuracy: 0.6789\n",
      "Epoch 27/30\n",
      "406/406 [==============================] - 1s 2ms/step - loss: 0.6085 - accuracy: 0.6636 - val_loss: 0.6081 - val_accuracy: 0.6789\n",
      "Epoch 28/30\n",
      "406/406 [==============================] - 1s 2ms/step - loss: 0.6082 - accuracy: 0.6636 - val_loss: 0.6078 - val_accuracy: 0.6789\n",
      "Epoch 29/30\n",
      "406/406 [==============================] - 1s 2ms/step - loss: 0.6080 - accuracy: 0.6636 - val_loss: 0.6077 - val_accuracy: 0.6789\n",
      "Epoch 30/30\n",
      "406/406 [==============================] - 1s 2ms/step - loss: 0.6078 - accuracy: 0.6636 - val_loss: 0.6075 - val_accuracy: 0.6789\n"
     ]
    },
    {
     "data": {
      "text/plain": [
       "<keras.callbacks.History at 0x2101f0dcc70>"
      ]
     },
     "execution_count": 166,
     "metadata": {},
     "output_type": "execute_result"
    }
   ],
   "source": [
    "# Word2vec Classifier\n",
    "X_w2 = tf.keras.preprocessing.sequence.pad_sequences(X, maxlen=100)\n",
    "y_w2 = data.toxic.values\n",
    "\n",
    "X_train_w2, X_test_w2, y_train_w2, y_test_w2 = train_test_split(X_w2, y_w2, test_size=0.1)\n",
    "\n",
    "weights = np.zeros((len(word2id), 100))\n",
    "\n",
    "for word, i in word2id.items():\n",
    "    if word == 'PAD':\n",
    "        continue\n",
    "\n",
    "    try:\n",
    "        weights[i] = w2v.wv[word]\n",
    "    \n",
    "    except KeyError:\n",
    "        continue\n",
    "        weights[i] = w2v.wv['втжлыою']\n",
    "        \n",
    "inputs = tf.keras.layers.Input(shape=(100,))\n",
    "embeddings = tf.keras.layers.Embedding(input_dim=len(word2id), output_dim=100, \n",
    "                                        trainable=False,\n",
    "                                        weights=[weights])(inputs, )\n",
    "mean = tf.keras.layers.Lambda(lambda x: tf.keras.backend.mean(x,  axis=1))(embeddings)\n",
    "\n",
    "outputs = tf.keras.layers.Dense(1, activation='sigmoid')(mean)\n",
    "\n",
    "w2v_classifier = tf.keras.Model(inputs=inputs, outputs=outputs)\n",
    "optimizer = tf.keras.optimizers.Adam()\n",
    "w2v_classifier.compile(optimizer=optimizer,\n",
    "                loss='binary_crossentropy',\n",
    "                metrics=['accuracy'])\n",
    "  \n",
    "\n",
    "w2v_classifier.fit(X_train_w2, y_train_w2, \n",
    "          validation_data=(X_test_w2, y_test_w2),\n",
    "          batch_size=32,\n",
    "         epochs=30)"
   ]
  },
  {
   "cell_type": "code",
   "execution_count": 121,
   "id": "cdf41cf8",
   "metadata": {
    "collapsed": true
   },
   "outputs": [
    {
     "name": "stdout",
     "output_type": "stream",
     "text": [
      "dict_keys(['loss', 'accuracy', 'val_loss', 'val_accuracy'])\n"
     ]
    },
    {
     "data": {
      "image/png": "[encoded data removed]",
      "text/plain": [
       "<Figure size 432x288 with 1 Axes>"
      ]
     },
     "metadata": {
      "needs_background": "light"
     },
     "output_type": "display_data"
    }
   ],
   "source": [
    "print(w2v_classifier.history.history.keys())\n",
    "acc2=w2v_classifier.history.history['accuracy'][-1]\n",
    "plt.plot(w2v_classifier.history.history['accuracy'])\n",
    "plt.plot(w2v_classifier.history.history['val_accuracy'])\n",
    "plt.title('model accuracy')\n",
    "plt.ylabel('accuracy')\n",
    "plt.xlabel('epoch')\n",
    "plt.legend(['train', 'val'], loc='upper left')\n",
    "plt.show()"
   ]
  },
  {
   "cell_type": "markdown",
   "id": "cb4f3f82",
   "metadata": {},
   "source": [
    "Для word2vec результаты выглядят подозрительно - кажется, модель не обучается( Loss остается практически одинаковым начиная со 2-й эпохи."
   ]
  },
  {
   "cell_type": "code",
   "execution_count": 113,
   "id": "1354cbac",
   "metadata": {
    "collapsed": true
   },
   "outputs": [
    {
     "name": "stdout",
     "output_type": "stream",
     "text": [
      "Epoch 1/30\n",
      "406/406 [==============================] - 4s 8ms/step - loss: 0.6613 - accuracy: 0.6641 - val_loss: 0.6410 - val_accuracy: 0.6623\n",
      "Epoch 2/30\n",
      "406/406 [==============================] - 3s 7ms/step - loss: 0.6332 - accuracy: 0.6655 - val_loss: 0.6303 - val_accuracy: 0.6623\n",
      "Epoch 3/30\n",
      "406/406 [==============================] - 3s 7ms/step - loss: 0.6277 - accuracy: 0.6655 - val_loss: 0.6286 - val_accuracy: 0.6623\n",
      "Epoch 4/30\n",
      "406/406 [==============================] - 3s 7ms/step - loss: 0.6265 - accuracy: 0.6655 - val_loss: 0.6280 - val_accuracy: 0.6623\n",
      "Epoch 5/30\n",
      "406/406 [==============================] - 3s 7ms/step - loss: 0.6259 - accuracy: 0.6655 - val_loss: 0.6276 - val_accuracy: 0.6623\n",
      "Epoch 6/30\n",
      "406/406 [==============================] - 3s 7ms/step - loss: 0.6254 - accuracy: 0.6655 - val_loss: 0.6273 - val_accuracy: 0.6623\n",
      "Epoch 7/30\n",
      "406/406 [==============================] - 3s 7ms/step - loss: 0.6249 - accuracy: 0.6655 - val_loss: 0.6269 - val_accuracy: 0.6623\n",
      "Epoch 8/30\n",
      "406/406 [==============================] - 3s 7ms/step - loss: 0.6245 - accuracy: 0.6655 - val_loss: 0.6266 - val_accuracy: 0.6623\n",
      "Epoch 9/30\n",
      "406/406 [==============================] - 3s 7ms/step - loss: 0.6240 - accuracy: 0.6655 - val_loss: 0.6262 - val_accuracy: 0.6623\n",
      "Epoch 10/30\n",
      "406/406 [==============================] - 3s 7ms/step - loss: 0.6236 - accuracy: 0.6655 - val_loss: 0.6259 - val_accuracy: 0.6623\n",
      "Epoch 11/30\n",
      "406/406 [==============================] - 3s 7ms/step - loss: 0.6232 - accuracy: 0.6655 - val_loss: 0.6256 - val_accuracy: 0.6623\n",
      "Epoch 12/30\n",
      "406/406 [==============================] - 3s 7ms/step - loss: 0.6229 - accuracy: 0.6655 - val_loss: 0.6253 - val_accuracy: 0.6623\n",
      "Epoch 13/30\n",
      "406/406 [==============================] - 3s 7ms/step - loss: 0.6225 - accuracy: 0.6655 - val_loss: 0.6251 - val_accuracy: 0.6623\n",
      "Epoch 14/30\n",
      "406/406 [==============================] - 3s 7ms/step - loss: 0.6221 - accuracy: 0.6655 - val_loss: 0.6248 - val_accuracy: 0.6623\n",
      "Epoch 15/30\n",
      "406/406 [==============================] - 3s 7ms/step - loss: 0.6218 - accuracy: 0.6655 - val_loss: 0.6245 - val_accuracy: 0.6623\n",
      "Epoch 16/30\n",
      "406/406 [==============================] - 3s 7ms/step - loss: 0.6215 - accuracy: 0.6655 - val_loss: 0.6242 - val_accuracy: 0.6623\n",
      "Epoch 17/30\n",
      "406/406 [==============================] - 3s 7ms/step - loss: 0.6211 - accuracy: 0.6655 - val_loss: 0.6240 - val_accuracy: 0.6623\n",
      "Epoch 18/30\n",
      "406/406 [==============================] - 3s 7ms/step - loss: 0.6208 - accuracy: 0.6655 - val_loss: 0.6238 - val_accuracy: 0.6623\n",
      "Epoch 19/30\n",
      "406/406 [==============================] - 3s 7ms/step - loss: 0.6205 - accuracy: 0.6655 - val_loss: 0.6235 - val_accuracy: 0.6623\n",
      "Epoch 20/30\n",
      "406/406 [==============================] - 3s 7ms/step - loss: 0.6202 - accuracy: 0.6655 - val_loss: 0.6233 - val_accuracy: 0.6623\n",
      "Epoch 21/30\n",
      "406/406 [==============================] - 3s 7ms/step - loss: 0.6199 - accuracy: 0.6655 - val_loss: 0.6231 - val_accuracy: 0.6623\n",
      "Epoch 22/30\n",
      "406/406 [==============================] - 3s 7ms/step - loss: 0.6196 - accuracy: 0.6655 - val_loss: 0.6228 - val_accuracy: 0.6623\n",
      "Epoch 23/30\n",
      "406/406 [==============================] - 3s 7ms/step - loss: 0.6193 - accuracy: 0.6655 - val_loss: 0.6226 - val_accuracy: 0.6623\n",
      "Epoch 24/30\n",
      "406/406 [==============================] - 3s 7ms/step - loss: 0.6190 - accuracy: 0.6655 - val_loss: 0.6224 - val_accuracy: 0.6623\n",
      "Epoch 25/30\n",
      "406/406 [==============================] - 3s 7ms/step - loss: 0.6187 - accuracy: 0.6655 - val_loss: 0.6221 - val_accuracy: 0.6623\n",
      "Epoch 26/30\n",
      "406/406 [==============================] - 3s 7ms/step - loss: 0.6184 - accuracy: 0.6655 - val_loss: 0.6219 - val_accuracy: 0.6623\n",
      "Epoch 27/30\n",
      "406/406 [==============================] - 3s 7ms/step - loss: 0.6181 - accuracy: 0.6655 - val_loss: 0.6217 - val_accuracy: 0.6623\n",
      "Epoch 28/30\n",
      "406/406 [==============================] - 3s 7ms/step - loss: 0.6179 - accuracy: 0.6655 - val_loss: 0.6215 - val_accuracy: 0.6623\n",
      "Epoch 29/30\n",
      "406/406 [==============================] - 3s 7ms/step - loss: 0.6176 - accuracy: 0.6655 - val_loss: 0.6212 - val_accuracy: 0.6623\n",
      "Epoch 30/30\n",
      "406/406 [==============================] - 3s 7ms/step - loss: 0.6173 - accuracy: 0.6655 - val_loss: 0.6211 - val_accuracy: 0.6623\n"
     ]
    },
    {
     "data": {
      "text/plain": [
       "<keras.callbacks.History at 0x2101f1291e0>"
      ]
     },
     "execution_count": 113,
     "metadata": {},
     "output_type": "execute_result"
    }
   ],
   "source": [
    "# cbow\n",
    "\n",
    "X_cbow = tf.keras.preprocessing.sequence.pad_sequences(X, maxlen=300)\n",
    "y_cbow = data.toxic.values\n",
    "\n",
    "X_train_cbow, X_test_cbow, y_train_cbow, y_test_cbow = train_test_split(X_cbow, y_cbow, test_size=0.1)\n",
    "weights = np.zeros((len(word2id), 300))\n",
    "\n",
    "model_weights = embeddings1\n",
    "\n",
    "for id in id2word.keys(): \n",
    "    if id == 0:\n",
    "        continue\n",
    "    try:\n",
    "        weights[id] = model_weights[id]\n",
    "      \n",
    "      \n",
    "    except KeyError:\n",
    "        continue\n",
    "        weights[id] = model_weights[100000000] \n",
    "\n",
    "inputs = tf.keras.layers.Input(shape=(300,))\n",
    "\n",
    "embeddings = tf.keras.layers.Embedding(input_dim=len(word2id), output_dim=300, \n",
    "                                        trainable=False,\n",
    "                                        weights=[weights])(inputs, )\n",
    "mean = tf.keras.layers.Lambda(lambda x: tf.keras.backend.mean(x,  axis=1))(embeddings)\n",
    "\n",
    "outputs = tf.keras.layers.Dense(1, activation='sigmoid')(mean)\n",
    "\n",
    "cbow_classifier = tf.keras.Model(inputs=inputs, outputs=outputs)\n",
    "optimizer = tf.keras.optimizers.Adam()\n",
    "cbow_classifier.compile(optimizer=optimizer,\n",
    "                loss='binary_crossentropy',\n",
    "                metrics=['accuracy'])\n",
    "  \n",
    "cbow_classifier.fit(X_train_cbow, y_train_cbow, \n",
    "          validation_data=(X_test_cbow, y_test_cbow),\n",
    "          batch_size=32,\n",
    "          epochs=30)\n",
    "  \n"
   ]
  },
  {
   "cell_type": "code",
   "execution_count": 122,
   "id": "362cdf20",
   "metadata": {},
   "outputs": [
    {
     "name": "stdout",
     "output_type": "stream",
     "text": [
      "dict_keys(['loss', 'accuracy', 'val_loss', 'val_accuracy'])\n"
     ]
    },
    {
     "data": {
      "image/png": "[encoded data removed]",
      "text/plain": [
       "<Figure size 432x288 with 1 Axes>"
      ]
     },
     "metadata": {
      "needs_background": "light"
     },
     "output_type": "display_data"
    }
   ],
   "source": [
    "print(cbow_classifier.history.history.keys())\n",
    "acc3=cbow_classifier.history.history['accuracy'][-1]\n",
    "# summarize history for accuracy\n",
    "plt.plot(cbow_classifier.history.history['accuracy'])\n",
    "plt.plot(cbow_classifier.history.history['val_accuracy'])\n",
    "plt.title('model accuracy')\n",
    "plt.ylabel('accuracy')\n",
    "plt.xlabel('epoch')\n",
    "plt.legend(['train', 'val'], loc='upper left')\n",
    "plt.show()"
   ]
  },
  {
   "cell_type": "code",
   "execution_count": 116,
   "id": "be0d44a2",
   "metadata": {
    "collapsed": true
   },
   "outputs": [
    {
     "name": "stdout",
     "output_type": "stream",
     "text": [
      "Epoch 1/30\n",
      "406/406 [==============================] - 4s 8ms/step - loss: 0.6473 - accuracy: 0.6665 - val_loss: 0.6357 - val_accuracy: 0.6533\n",
      "Epoch 2/30\n",
      "406/406 [==============================] - 3s 8ms/step - loss: 0.6273 - accuracy: 0.6665 - val_loss: 0.6338 - val_accuracy: 0.6533\n",
      "Epoch 3/30\n",
      "406/406 [==============================] - 3s 8ms/step - loss: 0.6259 - accuracy: 0.6665 - val_loss: 0.6337 - val_accuracy: 0.6533\n",
      "Epoch 4/30\n",
      "406/406 [==============================] - 3s 8ms/step - loss: 0.6256 - accuracy: 0.6665 - val_loss: 0.6335 - val_accuracy: 0.6533\n",
      "Epoch 5/30\n",
      "406/406 [==============================] - 3s 8ms/step - loss: 0.6253 - accuracy: 0.6665 - val_loss: 0.6331 - val_accuracy: 0.6533\n",
      "Epoch 6/30\n",
      "406/406 [==============================] - 3s 8ms/step - loss: 0.6250 - accuracy: 0.6665 - val_loss: 0.6328 - val_accuracy: 0.6533\n",
      "Epoch 7/30\n",
      "406/406 [==============================] - 3s 8ms/step - loss: 0.6247 - accuracy: 0.6665 - val_loss: 0.6325 - val_accuracy: 0.6533\n",
      "Epoch 8/30\n",
      "406/406 [==============================] - 3s 8ms/step - loss: 0.6245 - accuracy: 0.6665 - val_loss: 0.6324 - val_accuracy: 0.6533\n",
      "Epoch 9/30\n",
      "406/406 [==============================] - 3s 8ms/step - loss: 0.6241 - accuracy: 0.6665 - val_loss: 0.6321 - val_accuracy: 0.6533\n",
      "Epoch 10/30\n",
      "406/406 [==============================] - 3s 8ms/step - loss: 0.6239 - accuracy: 0.6665 - val_loss: 0.6316 - val_accuracy: 0.6533\n",
      "Epoch 11/30\n",
      "406/406 [==============================] - 3s 8ms/step - loss: 0.6236 - accuracy: 0.6665 - val_loss: 0.6315 - val_accuracy: 0.6533\n",
      "Epoch 12/30\n",
      "406/406 [==============================] - 3s 8ms/step - loss: 0.6234 - accuracy: 0.6665 - val_loss: 0.6311 - val_accuracy: 0.6533\n",
      "Epoch 13/30\n",
      "406/406 [==============================] - 3s 8ms/step - loss: 0.6231 - accuracy: 0.6665 - val_loss: 0.6307 - val_accuracy: 0.6533\n",
      "Epoch 14/30\n",
      "406/406 [==============================] - 3s 8ms/step - loss: 0.6229 - accuracy: 0.6665 - val_loss: 0.6304 - val_accuracy: 0.6533\n",
      "Epoch 15/30\n",
      "406/406 [==============================] - 3s 8ms/step - loss: 0.6226 - accuracy: 0.6665 - val_loss: 0.6302 - val_accuracy: 0.6533\n",
      "Epoch 16/30\n",
      "406/406 [==============================] - 3s 8ms/step - loss: 0.6223 - accuracy: 0.6665 - val_loss: 0.6298 - val_accuracy: 0.6533\n",
      "Epoch 17/30\n",
      "406/406 [==============================] - 3s 8ms/step - loss: 0.6221 - accuracy: 0.6665 - val_loss: 0.6295 - val_accuracy: 0.6533\n",
      "Epoch 18/30\n",
      "406/406 [==============================] - 3s 8ms/step - loss: 0.6219 - accuracy: 0.6665 - val_loss: 0.6295 - val_accuracy: 0.6533\n",
      "Epoch 19/30\n",
      "406/406 [==============================] - 3s 8ms/step - loss: 0.6216 - accuracy: 0.6665 - val_loss: 0.6291 - val_accuracy: 0.6533\n",
      "Epoch 20/30\n",
      "406/406 [==============================] - 3s 8ms/step - loss: 0.6214 - accuracy: 0.6665 - val_loss: 0.6289 - val_accuracy: 0.6533\n",
      "Epoch 21/30\n",
      "406/406 [==============================] - 3s 7ms/step - loss: 0.6211 - accuracy: 0.6665 - val_loss: 0.6284 - val_accuracy: 0.6533\n",
      "Epoch 22/30\n",
      "406/406 [==============================] - 3s 7ms/step - loss: 0.6209 - accuracy: 0.6665 - val_loss: 0.6283 - val_accuracy: 0.6533\n",
      "Epoch 23/30\n",
      "406/406 [==============================] - 3s 7ms/step - loss: 0.6206 - accuracy: 0.6665 - val_loss: 0.6278 - val_accuracy: 0.6533\n",
      "Epoch 24/30\n",
      "406/406 [==============================] - 3s 7ms/step - loss: 0.6204 - accuracy: 0.6665 - val_loss: 0.6275 - val_accuracy: 0.6533\n",
      "Epoch 25/30\n",
      "406/406 [==============================] - 3s 7ms/step - loss: 0.6202 - accuracy: 0.6665 - val_loss: 0.6273 - val_accuracy: 0.6533\n",
      "Epoch 26/30\n",
      "406/406 [==============================] - 3s 7ms/step - loss: 0.6200 - accuracy: 0.6665 - val_loss: 0.6269 - val_accuracy: 0.6533\n",
      "Epoch 27/30\n",
      "406/406 [==============================] - 3s 7ms/step - loss: 0.6198 - accuracy: 0.6665 - val_loss: 0.6267 - val_accuracy: 0.6533\n",
      "Epoch 28/30\n",
      "406/406 [==============================] - 3s 7ms/step - loss: 0.6195 - accuracy: 0.6665 - val_loss: 0.6264 - val_accuracy: 0.6533\n",
      "Epoch 29/30\n",
      "406/406 [==============================] - 3s 7ms/step - loss: 0.6193 - accuracy: 0.6665 - val_loss: 0.6262 - val_accuracy: 0.6533\n",
      "Epoch 30/30\n",
      "406/406 [==============================] - 3s 7ms/step - loss: 0.6190 - accuracy: 0.6665 - val_loss: 0.6259 - val_accuracy: 0.6533\n"
     ]
    },
    {
     "data": {
      "text/plain": [
       "<keras.callbacks.History at 0x2101741d990>"
      ]
     },
     "execution_count": 116,
     "metadata": {},
     "output_type": "execute_result"
    }
   ],
   "source": [
    "#skip-gram\n",
    "\n",
    "X_skip = tf.keras.preprocessing.sequence.pad_sequences(X, maxlen=300)\n",
    "y_skip = data.toxic.values\n",
    "\n",
    "X_train_skip, X_valid_skip, y_train_skip, y_valid_skip = train_test_split(X_skip, y_skip, test_size=0.1)\n",
    "weights = np.zeros((len(word2id), 300))\n",
    "\n",
    "model_weights = embeddings2\n",
    "\n",
    "for id in id2word.keys(): \n",
    "    if id == 0:\n",
    "        continue\n",
    "    try:\n",
    "        weights[id] = model_weights[id]\n",
    "      \n",
    "      \n",
    "    except KeyError:\n",
    "        continue\n",
    "        weights[id] = model_weights[100000000] \n",
    "\n",
    "inputs = tf.keras.layers.Input(shape=(300,))\n",
    "\n",
    "embeddings = tf.keras.layers.Embedding(input_dim=len(word2id), output_dim=300, \n",
    "                                        trainable=False,\n",
    "                                        weights=[weights])(inputs, )\n",
    "mean = tf.keras.layers.Lambda(lambda x: tf.keras.backend.mean(x,  axis=1))(embeddings)\n",
    "\n",
    "outputs = tf.keras.layers.Dense(1, activation='sigmoid')(mean)\n",
    "\n",
    "skip_classifier = tf.keras.Model(inputs=inputs, outputs=outputs)\n",
    "optimizer = tf.keras.optimizers.Adam()\n",
    "skip_classifier.compile(optimizer=optimizer,\n",
    "                loss='binary_crossentropy',\n",
    "                metrics=['accuracy'])\n",
    "  \n",
    "skip_classifier.fit(X_train_skip, y_train_skip, \n",
    "          validation_data=(X_valid_skip, y_valid_skip),\n",
    "          batch_size=32,\n",
    "         epochs=30)\n",
    "  \n"
   ]
  },
  {
   "cell_type": "code",
   "execution_count": 123,
   "id": "a2290696",
   "metadata": {},
   "outputs": [
    {
     "name": "stdout",
     "output_type": "stream",
     "text": [
      "dict_keys(['loss', 'accuracy', 'val_loss', 'val_accuracy'])\n"
     ]
    },
    {
     "data": {
      "image/png": "[encoded data removed]",
      "text/plain": [
       "<Figure size 432x288 with 1 Axes>"
      ]
     },
     "metadata": {
      "needs_background": "light"
     },
     "output_type": "display_data"
    }
   ],
   "source": [
    "print(skip_classifier.history.history.keys())\n",
    "acc4=skip_classifier.history.history['accuracy'][-1]\n",
    "# summarize history for accuracy\n",
    "plt.plot(skip_classifier.history.history['accuracy'])\n",
    "plt.plot(skip_classifier.history.history['val_accuracy'])\n",
    "plt.title('model accuracy')\n",
    "plt.ylabel('accuracy')\n",
    "plt.xlabel('epoch')\n",
    "plt.legend(['train', 'val'], loc='upper left')\n",
    "plt.show()"
   ]
  },
  {
   "cell_type": "code",
   "execution_count": 41,
   "id": "7c724c65",
   "metadata": {},
   "outputs": [],
   "source": [
    "# metrics = pd.DataFrame({'Fasttext':acc1, 'Word2vec':acc2, \"Cbow\":acc3, \"Skip-gram\":acc4}, index=['Accuracy']).T"
   ]
  },
  {
   "cell_type": "markdown",
   "id": "2bde97ff",
   "metadata": {},
   "source": [
    "### RusVectores: ruwikiruscorpora-func_upos_skipgram_300_5_2019"
   ]
  },
  {
   "cell_type": "code",
   "execution_count": 8,
   "id": "d22e26a4",
   "metadata": {},
   "outputs": [],
   "source": [
    "rus_v_model = gensim.models.KeyedVectors.load_word2vec_format('model.bin', binary=True)"
   ]
  },
  {
   "cell_type": "code",
   "execution_count": 9,
   "id": "e4ce3c0b",
   "metadata": {},
   "outputs": [
    {
     "data": {
      "text/plain": [
       "[('семинарист_NOUN', 0.6852458715438843),\n",
       " ('гимназист_NOUN', 0.6708346605300903),\n",
       " ('аспирант_NOUN', 0.6496657133102417),\n",
       " ('студентка_NOUN', 0.6487054228782654),\n",
       " ('учащийся_NOUN', 0.6287897825241089),\n",
       " ('первокурсник_NOUN', 0.6265783309936523),\n",
       " ('ученик_NOUN', 0.6251557469367981),\n",
       " ('школьник_NOUN', 0.6132184267044067),\n",
       " ('абитуриент_NOUN', 0.6103333234786987),\n",
       " ('курсистка_NOUN', 0.596615731716156)]"
      ]
     },
     "execution_count": 9,
     "metadata": {},
     "output_type": "execute_result"
    }
   ],
   "source": [
    "rus_v_model.most_similar('студент_NOUN')"
   ]
  },
  {
   "cell_type": "code",
   "execution_count": 10,
   "id": "27a11a27",
   "metadata": {},
   "outputs": [],
   "source": [
    "mapping = {}\n",
    "\n",
    "for line in open('./ru-rnc.map'):\n",
    "    ms, ud = line.strip('\\n').split()\n",
    "    mapping[ms] = ud"
   ]
  },
  {
   "cell_type": "code",
   "execution_count": 11,
   "id": "f06be7ab",
   "metadata": {},
   "outputs": [],
   "source": [
    "from pymystem3 import Mystem\n",
    "    \n",
    "m = Mystem()\n",
    "\n",
    "def normalize_mystem(text):\n",
    "    tokens = []\n",
    "    norm_words = m.analyze(text)\n",
    "    for norm_word in norm_words:\n",
    "        if 'analysis' not in norm_word:\n",
    "            continue\n",
    "            \n",
    "        if not len(norm_word['analysis']):\n",
    "            lemma = norm_word['text']\n",
    "            pos = 'UNKN'\n",
    "        else:\n",
    "            lemma = norm_word[\"analysis\"][0][\"lex\"].lower().strip()\n",
    "            pos = norm_word[\"analysis\"][0][\"gr\"].split(',')[0]\n",
    "            pos = pos.split('=')[0].strip()\n",
    "        pos = mapping[pos]\n",
    "        tokens.append(lemma+'_'+pos)\n",
    "\n",
    "    return tokens"
   ]
  },
  {
   "cell_type": "code",
   "execution_count": 12,
   "id": "c2725ba5",
   "metadata": {},
   "outputs": [
    {
     "data": {
      "text/plain": [
       "['привет_NOUN']"
      ]
     },
     "execution_count": 12,
     "metadata": {},
     "output_type": "execute_result"
    }
   ],
   "source": [
    "normalize_mystem('Привет')"
   ]
  },
  {
   "cell_type": "code",
   "execution_count": 42,
   "id": "9ff1a929",
   "metadata": {},
   "outputs": [],
   "source": [
    "# from tqdm._tqdm_notebook import tqdm_notebook\n",
    "# import pandas as pd\n",
    "# tqdm_notebook.pandas()"
   ]
  },
  {
   "cell_type": "code",
   "execution_count": 14,
   "id": "a927d90a",
   "metadata": {},
   "outputs": [
    {
     "data": {
      "application/vnd.jupyter.widget-view+json": {
       "model_id": "d640f4a89b794775bf7e861dc3fb5bcf",
       "version_major": 2,
       "version_minor": 0
      },
      "text/plain": [
       "  0%|          | 0/14412 [00:00<?, ?it/s]"
      ]
     },
     "metadata": {},
     "output_type": "display_data"
    }
   ],
   "source": [
    "data['extra'] = data.comment.progress_apply(normalize_mystem)"
   ]
  },
  {
   "cell_type": "code",
   "execution_count": 15,
   "id": "03302d04",
   "metadata": {},
   "outputs": [],
   "source": [
    "#  data.to_csv('full_data.csv')"
   ]
  },
  {
   "cell_type": "code",
   "execution_count": 16,
   "id": "d69f9694",
   "metadata": {},
   "outputs": [
    {
     "data": {
      "text/html": [
       "<div>\n",
       "<style scoped>\n",
       "    .dataframe tbody tr th:only-of-type {\n",
       "        vertical-align: middle;\n",
       "    }\n",
       "\n",
       "    .dataframe tbody tr th {\n",
       "        vertical-align: top;\n",
       "    }\n",
       "\n",
       "    .dataframe thead th {\n",
       "        text-align: right;\n",
       "    }\n",
       "</style>\n",
       "<table border=\"1\" class=\"dataframe\">\n",
       "  <thead>\n",
       "    <tr style=\"text-align: right;\">\n",
       "      <th></th>\n",
       "      <th>comment</th>\n",
       "      <th>toxic</th>\n",
       "      <th>norm_text</th>\n",
       "      <th>extra</th>\n",
       "    </tr>\n",
       "  </thead>\n",
       "  <tbody>\n",
       "    <tr>\n",
       "      <th>0</th>\n",
       "      <td>Верблюдов-то за что? Дебилы, бл...\\r\\n</td>\n",
       "      <td>1.0</td>\n",
       "      <td>[верблюд-то, за, что, дебил, бл]</td>\n",
       "      <td>[верблюд_NOUN, то_PART, за_ADP, что_PRON, деби...</td>\n",
       "    </tr>\n",
       "    <tr>\n",
       "      <th>1</th>\n",
       "      <td>Хохлы, это отдушина затюканого россиянина, мол...</td>\n",
       "      <td>1.0</td>\n",
       "      <td>[хохол, это, отдушина, затюканый, россиянин, м...</td>\n",
       "      <td>[хохол_NOUN, это_PART, отдушина_NOUN, затюканы...</td>\n",
       "    </tr>\n",
       "    <tr>\n",
       "      <th>2</th>\n",
       "      <td>Собаке - собачья смерть\\r\\n</td>\n",
       "      <td>1.0</td>\n",
       "      <td>[собака, , собачий, смерть]</td>\n",
       "      <td>[собака_NOUN, собачий_ADJ, смерть_NOUN]</td>\n",
       "    </tr>\n",
       "    <tr>\n",
       "      <th>3</th>\n",
       "      <td>Страницу обнови, дебил. Это тоже не оскорблени...</td>\n",
       "      <td>1.0</td>\n",
       "      <td>[страница, обновить, дебил, это, тоже, не, оск...</td>\n",
       "      <td>[страница_NOUN, обновлять_VERB, дебил_NOUN, эт...</td>\n",
       "    </tr>\n",
       "    <tr>\n",
       "      <th>4</th>\n",
       "      <td>тебя не убедил 6-страничный пдф в том, что Скр...</td>\n",
       "      <td>1.0</td>\n",
       "      <td>[ты, не, убедить, 6-страничный, пдф, в, тот, ч...</td>\n",
       "      <td>[ты_PRON, не_PART, убеждать_VERB, страничный_A...</td>\n",
       "    </tr>\n",
       "  </tbody>\n",
       "</table>\n",
       "</div>"
      ],
      "text/plain": [
       "                                             comment  toxic  \\\n",
       "0             Верблюдов-то за что? Дебилы, бл...\\r\\n    1.0   \n",
       "1  Хохлы, это отдушина затюканого россиянина, мол...    1.0   \n",
       "2                        Собаке - собачья смерть\\r\\n    1.0   \n",
       "3  Страницу обнови, дебил. Это тоже не оскорблени...    1.0   \n",
       "4  тебя не убедил 6-страничный пдф в том, что Скр...    1.0   \n",
       "\n",
       "                                           norm_text  \\\n",
       "0                   [верблюд-то, за, что, дебил, бл]   \n",
       "1  [хохол, это, отдушина, затюканый, россиянин, м...   \n",
       "2                        [собака, , собачий, смерть]   \n",
       "3  [страница, обновить, дебил, это, тоже, не, оск...   \n",
       "4  [ты, не, убедить, 6-страничный, пдф, в, тот, ч...   \n",
       "\n",
       "                                               extra  \n",
       "0  [верблюд_NOUN, то_PART, за_ADP, что_PRON, деби...  \n",
       "1  [хохол_NOUN, это_PART, отдушина_NOUN, затюканы...  \n",
       "2            [собака_NOUN, собачий_ADJ, смерть_NOUN]  \n",
       "3  [страница_NOUN, обновлять_VERB, дебил_NOUN, эт...  \n",
       "4  [ты_PRON, не_PART, убеждать_VERB, страничный_A...  "
      ]
     },
     "execution_count": 16,
     "metadata": {},
     "output_type": "execute_result"
    }
   ],
   "source": [
    "data.head()"
   ]
  },
  {
   "cell_type": "code",
   "execution_count": 17,
   "id": "114162ec",
   "metadata": {},
   "outputs": [],
   "source": [
    "vocab = Counter()\n",
    "\n",
    "for text in data['extra']:\n",
    "    vocab.update(text)"
   ]
  },
  {
   "cell_type": "code",
   "execution_count": 18,
   "id": "f6b2bdf0",
   "metadata": {},
   "outputs": [
    {
     "data": {
      "text/plain": [
       "6216"
      ]
     },
     "execution_count": 18,
     "metadata": {},
     "output_type": "execute_result"
    }
   ],
   "source": [
    "filtered_vocab = set()\n",
    "\n",
    "for word in vocab:\n",
    "    if vocab[word] > 5:\n",
    "        filtered_vocab.add(word)\n",
    "\n",
    "len(filtered_vocab)"
   ]
  },
  {
   "cell_type": "code",
   "execution_count": 19,
   "id": "dcf5de76",
   "metadata": {},
   "outputs": [],
   "source": [
    "word2id = { 'PAD':0}\n",
    "\n",
    "for word in filtered_vocab:\n",
    "    word2id[word] = len(word2id)\n",
    "id2word = {i:word for word, i in word2id.items()}"
   ]
  },
  {
   "cell_type": "code",
   "execution_count": 21,
   "id": "e8d26980",
   "metadata": {},
   "outputs": [],
   "source": [
    "X = []\n",
    "\n",
    "for tokens in data['extra']:\n",
    "    ids = [word2id[token] for token in tokens if token in word2id]\n",
    "    X.append(ids)"
   ]
  },
  {
   "cell_type": "code",
   "execution_count": 22,
   "id": "34459337",
   "metadata": {},
   "outputs": [
    {
     "data": {
      "text/plain": [
       "14412"
      ]
     },
     "execution_count": 22,
     "metadata": {},
     "output_type": "execute_result"
    }
   ],
   "source": [
    "len(X)"
   ]
  },
  {
   "cell_type": "code",
   "execution_count": 203,
   "id": "af8b0e37",
   "metadata": {},
   "outputs": [
    {
     "data": {
      "text/plain": [
       "14412"
      ]
     },
     "execution_count": 203,
     "metadata": {},
     "output_type": "execute_result"
    }
   ],
   "source": [
    "len(data.toxic.values)"
   ]
  },
  {
   "cell_type": "code",
   "execution_count": 27,
   "id": "5eebb5ce",
   "metadata": {
    "collapsed": true
   },
   "outputs": [
    {
     "name": "stdout",
     "output_type": "stream",
     "text": [
      "Epoch 1/30\n",
      "406/406 [==============================] - 5s 11ms/step - loss: 0.6476 - accuracy: 0.6650 - val_loss: 0.6308 - val_accuracy: 0.6533\n",
      "Epoch 2/30\n",
      "406/406 [==============================] - 4s 10ms/step - loss: 0.6222 - accuracy: 0.6665 - val_loss: 0.6235 - val_accuracy: 0.6533\n",
      "Epoch 3/30\n",
      "406/406 [==============================] - 4s 10ms/step - loss: 0.6161 - accuracy: 0.6665 - val_loss: 0.6188 - val_accuracy: 0.6533\n",
      "Epoch 4/30\n",
      "406/406 [==============================] - 4s 9ms/step - loss: 0.6111 - accuracy: 0.6665 - val_loss: 0.6142 - val_accuracy: 0.6533\n",
      "Epoch 5/30\n",
      "406/406 [==============================] - 4s 9ms/step - loss: 0.6063 - accuracy: 0.6665 - val_loss: 0.6095 - val_accuracy: 0.6533\n",
      "Epoch 6/30\n",
      "406/406 [==============================] - 4s 10ms/step - loss: 0.6015 - accuracy: 0.6665 - val_loss: 0.6049 - val_accuracy: 0.6533\n",
      "Epoch 7/30\n",
      "406/406 [==============================] - 4s 9ms/step - loss: 0.5969 - accuracy: 0.6665 - val_loss: 0.6005 - val_accuracy: 0.6533\n",
      "Epoch 8/30\n",
      "406/406 [==============================] - 4s 9ms/step - loss: 0.5924 - accuracy: 0.6667 - val_loss: 0.5962 - val_accuracy: 0.6533\n",
      "Epoch 9/30\n",
      "406/406 [==============================] - 4s 9ms/step - loss: 0.5881 - accuracy: 0.6667 - val_loss: 0.5921 - val_accuracy: 0.6533\n",
      "Epoch 10/30\n",
      "406/406 [==============================] - 4s 9ms/step - loss: 0.5840 - accuracy: 0.6668 - val_loss: 0.5880 - val_accuracy: 0.6546\n",
      "Epoch 11/30\n",
      "406/406 [==============================] - 4s 9ms/step - loss: 0.5799 - accuracy: 0.6670 - val_loss: 0.5844 - val_accuracy: 0.6546\n",
      "Epoch 12/30\n",
      "406/406 [==============================] - 4s 9ms/step - loss: 0.5761 - accuracy: 0.6671 - val_loss: 0.5806 - val_accuracy: 0.6553\n",
      "Epoch 13/30\n",
      "406/406 [==============================] - 4s 9ms/step - loss: 0.5724 - accuracy: 0.6682 - val_loss: 0.5769 - val_accuracy: 0.6574\n",
      "Epoch 14/30\n",
      "406/406 [==============================] - 4s 9ms/step - loss: 0.5687 - accuracy: 0.6697 - val_loss: 0.5735 - val_accuracy: 0.6574\n",
      "Epoch 15/30\n",
      "406/406 [==============================] - 4s 9ms/step - loss: 0.5652 - accuracy: 0.6705 - val_loss: 0.5701 - val_accuracy: 0.6574\n",
      "Epoch 16/30\n",
      "406/406 [==============================] - 4s 9ms/step - loss: 0.5618 - accuracy: 0.6726 - val_loss: 0.5667 - val_accuracy: 0.6623\n",
      "Epoch 17/30\n",
      "406/406 [==============================] - 3s 9ms/step - loss: 0.5585 - accuracy: 0.6739 - val_loss: 0.5635 - val_accuracy: 0.6630\n",
      "Epoch 18/30\n",
      "406/406 [==============================] - 4s 9ms/step - loss: 0.5553 - accuracy: 0.6769 - val_loss: 0.5605 - val_accuracy: 0.6637\n",
      "Epoch 19/30\n",
      "406/406 [==============================] - 4s 9ms/step - loss: 0.5523 - accuracy: 0.6800 - val_loss: 0.5577 - val_accuracy: 0.6657\n",
      "Epoch 20/30\n",
      "406/406 [==============================] - 4s 9ms/step - loss: 0.5494 - accuracy: 0.6838 - val_loss: 0.5550 - val_accuracy: 0.6671\n",
      "Epoch 21/30\n",
      "406/406 [==============================] - 4s 9ms/step - loss: 0.5466 - accuracy: 0.6851 - val_loss: 0.5520 - val_accuracy: 0.6713\n",
      "Epoch 22/30\n",
      "406/406 [==============================] - 4s 9ms/step - loss: 0.5438 - accuracy: 0.6891 - val_loss: 0.5496 - val_accuracy: 0.6713\n",
      "Epoch 23/30\n",
      "406/406 [==============================] - 4s 9ms/step - loss: 0.5412 - accuracy: 0.6908 - val_loss: 0.5470 - val_accuracy: 0.6775\n",
      "Epoch 24/30\n",
      "406/406 [==============================] - 4s 9ms/step - loss: 0.5387 - accuracy: 0.6934 - val_loss: 0.5445 - val_accuracy: 0.6810\n",
      "Epoch 25/30\n",
      "406/406 [==============================] - 3s 9ms/step - loss: 0.5361 - accuracy: 0.6975 - val_loss: 0.5420 - val_accuracy: 0.6859\n",
      "Epoch 26/30\n",
      "406/406 [==============================] - 4s 9ms/step - loss: 0.5336 - accuracy: 0.6999 - val_loss: 0.5396 - val_accuracy: 0.6956\n",
      "Epoch 27/30\n",
      "406/406 [==============================] - 3s 9ms/step - loss: 0.5313 - accuracy: 0.7048 - val_loss: 0.5374 - val_accuracy: 0.6949\n",
      "Epoch 28/30\n",
      "406/406 [==============================] - 3s 9ms/step - loss: 0.5290 - accuracy: 0.7059 - val_loss: 0.5351 - val_accuracy: 0.6976\n",
      "Epoch 29/30\n",
      "406/406 [==============================] - 3s 9ms/step - loss: 0.5267 - accuracy: 0.7108 - val_loss: 0.5330 - val_accuracy: 0.6976\n",
      "Epoch 30/30\n",
      "406/406 [==============================] - 4s 9ms/step - loss: 0.5245 - accuracy: 0.7119 - val_loss: 0.5308 - val_accuracy: 0.7004\n"
     ]
    },
    {
     "data": {
      "text/plain": [
       "<keras.callbacks.History at 0x243a6408f70>"
      ]
     },
     "execution_count": 27,
     "metadata": {},
     "output_type": "execute_result"
    }
   ],
   "source": [
    "# Pre-trained clf\n",
    "X_ru = tf.keras.preprocessing.sequence.pad_sequences(X, maxlen=300)\n",
    "y_ru = data.toxic.values\n",
    "\n",
    "X_train_ru, X_test_ru, y_train_ru, y_test_ru = train_test_split(X_ru, y_ru, test_size=0.1)\n",
    "\n",
    "weights = np.zeros((len(word2id), 300))\n",
    "\n",
    "for word, i in word2id.items():\n",
    "    if word == 'PAD':\n",
    "        continue\n",
    "\n",
    "    try:\n",
    "        weights[i] = rus_v_model[word]\n",
    "    \n",
    "    except KeyError:\n",
    "        continue\n",
    "        weights[i] = rus_v_model['втжлыою']\n",
    "        \n",
    "inputs = tf.keras.layers.Input(shape=(300,))\n",
    "embeddings = tf.keras.layers.Embedding(input_dim=len(word2id), output_dim=300, \n",
    "                                        trainable=False,\n",
    "                                        weights=[weights])(inputs, )\n",
    "mean = tf.keras.layers.Lambda(lambda x: tf.keras.backend.mean(x,  axis=1))(embeddings)\n",
    "\n",
    "outputs = tf.keras.layers.Dense(1, activation='sigmoid')(mean)\n",
    "\n",
    "ru_classifier = tf.keras.Model(inputs=inputs, outputs=outputs)\n",
    "optimizer = tf.keras.optimizers.Adam()\n",
    "ru_classifier.compile(optimizer=optimizer,\n",
    "                loss='binary_crossentropy',\n",
    "                metrics=['accuracy'])\n",
    "  \n",
    "\n",
    "ru_classifier.fit(X_train_ru, y_train_ru, \n",
    "          validation_data=(X_test_ru, y_test_ru),\n",
    "          batch_size=32,\n",
    "         epochs=30)"
   ]
  },
  {
   "cell_type": "code",
   "execution_count": 28,
   "id": "0d172c4b",
   "metadata": {},
   "outputs": [
    {
     "name": "stdout",
     "output_type": "stream",
     "text": [
      "dict_keys(['loss', 'accuracy', 'val_loss', 'val_accuracy'])\n"
     ]
    },
    {
     "data": {
      "image/png": "[encoded data removed]",
      "text/plain": [
       "<Figure size 432x288 with 1 Axes>"
      ]
     },
     "metadata": {
      "needs_background": "light"
     },
     "output_type": "display_data"
    }
   ],
   "source": [
    "print(ru_classifier.history.history.keys())\n",
    "acc5 = ru_classifier.history.history['accuracy'][-1]\n",
    "# summarize history for accuracy\n",
    "plt.plot(ru_classifier.history.history['accuracy'])\n",
    "plt.plot(ru_classifier.history.history['val_accuracy'])\n",
    "plt.title('model accuracy')\n",
    "plt.ylabel('accuracy')\n",
    "plt.xlabel('epoch')\n",
    "plt.legend(['train', 'val'], loc='upper left')\n",
    "plt.show()"
   ]
  },
  {
   "cell_type": "markdown",
   "id": "413c12d0",
   "metadata": {},
   "source": [
    "**Итоги**\n",
    "\n",
    "Самая высокая точность на последней эпохе у Fasttext - **0.73**, на втором месте модель rus vectores, обученная на корпусе из википедии (ruwikiruscorpora-func_upos_skipgram_300_5_2019) - **0.71**. Остальные модели показали accuracy ~ **0.65** - такая близость подозрительна, возможно, я где-то ошиблась\n",
    "\n",
    "- Интересно, что, если смотреть вручную, самые похожие слова были у модели rus vectores, у fasttext же были в большинстве случаев похожи внешне, а не по смыслу. Но в машинных метриках это не отобразилось."
   ]
  }
 ],
 "metadata": {
  "kernelspec": {
   "display_name": "Python 3 (ipykernel)",
   "language": "python",
   "name": "python3"
  },
  "language_info": {
   "codemirror_mode": {
    "name": "ipython",
    "version": 3
   },
   "file_extension": ".py",
   "mimetype": "text/x-python",
   "name": "python",
   "nbconvert_exporter": "python",
   "pygments_lexer": "ipython3",
   "version": "3.10.0"
  }
 },
 "nbformat": 4,
 "nbformat_minor": 5
}
