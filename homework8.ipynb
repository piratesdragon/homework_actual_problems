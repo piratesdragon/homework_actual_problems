{
  "nbformat": 4,
  "nbformat_minor": 0,
  "metadata": {
    "colab": {
      "provenance": []
    },
    "kernelspec": {
      "name": "python3",
      "display_name": "Python 3"
    },
    "language_info": {
      "name": "python"
    },
    "accelerator": "GPU",
    "gpuClass": "standard"
  },
  "cells": [
    {
      "cell_type": "markdown",
      "metadata": {
        "id": "1bf6f873"
      },
      "source": [
        "# Домашнее задание № 8"
      ]
    },
    {
      "cell_type": "markdown",
      "metadata": {
        "id": "3b4bd487"
      },
      "source": [
        "# Задание 1 (4 балла) "
      ]
    },
    {
      "cell_type": "markdown",
      "metadata": {
        "id": "bf4c4f87"
      },
      "source": [
        "Обучите 8 моделей для задачи классификации текста (датасет - lenta_40k ). А именно:  \n",
        "1) модель с 1 GRU слоем;   \n",
        "2) модель с 1 LSTM слоем    \n",
        "3) модель с 1 GRU и 1 LSTM слоем  \n",
        "4) модель с 1 BIGRU и 2 LSTM слоями  \n",
        "5) модель с 5 GRU слоями и 3 LSTM слоями  \n",
        "6) модель 1 BIGRU и 1 BILSTM слоями, причем так чтобы модели для forward и backward прохода отличались   \n",
        "7) модель, где последовательно идут слои: LSTM, GRU, BILSTM, BIGRU, GRU, LSTM  \n",
        "\n",
        "\n",
        "\n",
        "Параметр units и размер эмбединга можете задать любой. Оцените качество каждой модели и определите победителя."
      ]
    },
    {
      "cell_type": "code",
      "execution_count": null,
      "metadata": {
        "id": "0BkGExTsva2K"
      },
      "outputs": [],
      "source": [
        "!pip install pandas scikit-learn matplotlib"
      ]
    },
    {
      "cell_type": "code",
      "source": [
        "import tensorflow as tf\n",
        "import pandas as pd\n",
        "import numpy as np\n",
        "from string import punctuation\n",
        "from sklearn.model_selection import train_test_split\n",
        "from collections import Counter\n",
        "from IPython.display import Image\n",
        "from IPython.core.display import HTML \n",
        "import matplotlib.pyplot as plt\n",
        "%matplotlib inline\n",
        "from tensorflow.keras import backend as K"
      ],
      "metadata": {
        "id": "t7lZlbRDwb9F"
      },
      "execution_count": 84,
      "outputs": []
    },
    {
      "cell_type": "code",
      "source": [
        "from tqdm import tqdm"
      ],
      "metadata": {
        "id": "n56EMHPsy03m"
      },
      "execution_count": 85,
      "outputs": []
    },
    {
      "cell_type": "code",
      "source": [
        "data = pd.read_csv('lenta_40k.csv.zip')"
      ],
      "metadata": {
        "id": "kqlsHJzLxenE"
      },
      "execution_count": 86,
      "outputs": []
    },
    {
      "cell_type": "code",
      "source": [
        "def preprocess(text):\n",
        "    tokens = text.lower().split()\n",
        "    tokens = [token.strip(punctuation) for token in tokens]\n",
        "    return tokens"
      ],
      "metadata": {
        "id": "P74x7IfixgrS"
      },
      "execution_count": 87,
      "outputs": []
    },
    {
      "cell_type": "code",
      "source": [
        "def f1(y_true, y_pred):\n",
        "    def recall(y_true, y_pred):\n",
        "        \n",
        "        true_positives = K.sum(K.round(K.clip(y_true * y_pred, 0, 1)))\n",
        "        possible_positives = K.sum(K.round(K.clip(y_true, 0, 1)))\n",
        "        recall = true_positives / (possible_positives + K.epsilon())\n",
        "        return recall\n",
        "\n",
        "    def precision(y_true, y_pred):\n",
        "        \n",
        "        true_positives = K.sum(K.round(K.clip(y_true * y_pred, 0, 1)))\n",
        "        predicted_positives = K.sum(K.round(K.clip(y_pred, 0, 1)))\n",
        "        precision = true_positives / (predicted_positives + K.epsilon())\n",
        "        return precision\n",
        "    precision = precision(y_true, y_pred)\n",
        "    recall = recall(y_true, y_pred)\n",
        "    return 2*((precision*recall)/(precision+recall+K.epsilon()))"
      ],
      "metadata": {
        "id": "p_uQHBPCxllx"
      },
      "execution_count": 88,
      "outputs": []
    },
    {
      "cell_type": "code",
      "source": [
        "vocab = Counter()\n",
        "\n",
        "for text in tqdm(data.text):\n",
        "    vocab.update(preprocess(text))"
      ],
      "metadata": {
        "colab": {
          "base_uri": "https://localhost:8080/"
        },
        "id": "eJ0WfccRxt1-",
        "outputId": "ad4ad620-4a70-4059-a0c8-47a41a83bcd7"
      },
      "execution_count": 89,
      "outputs": [
        {
          "output_type": "stream",
          "name": "stderr",
          "text": [
            "100%|██████████| 44356/44356 [00:03<00:00, 11434.41it/s]\n"
          ]
        }
      ]
    },
    {
      "cell_type": "code",
      "source": [
        "filtered_vocab = set()\n",
        "\n",
        "for word in vocab:\n",
        "    if vocab[word] > 30:\n",
        "        filtered_vocab.add(word)"
      ],
      "metadata": {
        "id": "EVd-tEt3xv-l"
      },
      "execution_count": 90,
      "outputs": []
    },
    {
      "cell_type": "code",
      "source": [
        "word2id = {'PAD':0, 'UNK':1}\n",
        "\n",
        "for word in filtered_vocab:\n",
        "    word2id[word] = len(word2id)"
      ],
      "metadata": {
        "id": "sYdT3t60yMq-"
      },
      "execution_count": 91,
      "outputs": []
    },
    {
      "cell_type": "code",
      "source": [
        "id2word = {i:word for word, i in word2id.items()}"
      ],
      "metadata": {
        "id": "uXyXwXYgyPpJ"
      },
      "execution_count": 92,
      "outputs": []
    },
    {
      "cell_type": "code",
      "source": [
        "X = []\n",
        "\n",
        "for text in data.text:\n",
        "    tokens = preprocess(text)\n",
        "    ids = [word2id.get(token, 1) for token in tokens]\n",
        "    X.append(ids)"
      ],
      "metadata": {
        "id": "-LxUAn0czBtt"
      },
      "execution_count": 93,
      "outputs": []
    },
    {
      "cell_type": "code",
      "source": [
        "MEAN_LEN = np.median([len(x) for x in X])\n",
        "MAX_LEN = int(MEAN_LEN + 30)"
      ],
      "metadata": {
        "id": "EGUz1AbYzEdO"
      },
      "execution_count": 94,
      "outputs": []
    },
    {
      "cell_type": "code",
      "source": [
        "X = tf.keras.preprocessing.sequence.pad_sequences(X, maxlen=MAX_LEN)"
      ],
      "metadata": {
        "id": "1A3B_ygzzQcr"
      },
      "execution_count": 95,
      "outputs": []
    },
    {
      "cell_type": "code",
      "source": [
        "id2label = {i:label for i, label in enumerate(set(data.topic.values))}\n",
        "label2id = {l:i for i, l in id2label.items()}"
      ],
      "metadata": {
        "id": "KIh6jOFUzSkc"
      },
      "execution_count": 96,
      "outputs": []
    },
    {
      "cell_type": "code",
      "source": [
        "y = tf.keras.utils.to_categorical([label2id[label] for label in data.topic.values])"
      ],
      "metadata": {
        "id": "DG8kihlMzUTY"
      },
      "execution_count": 97,
      "outputs": []
    },
    {
      "cell_type": "code",
      "source": [
        "X_train, X_valid, y_train, y_valid = train_test_split(X, y, test_size=0.05, stratify=y)"
      ],
      "metadata": {
        "id": "5A6ozCONzWq2"
      },
      "execution_count": 98,
      "outputs": []
    },
    {
      "cell_type": "markdown",
      "source": [
        "## 1 GRU слой"
      ],
      "metadata": {
        "id": "X3qdkroZ9tVX"
      }
    },
    {
      "cell_type": "code",
      "source": [
        "inputs = tf.keras.layers.Input(shape=(MAX_LEN,))\n",
        "embeddings = tf.keras.layers.Embedding(input_dim=len(word2id), output_dim=30)(inputs, )\n",
        "\n",
        "gru = tf.keras.layers.GRU(128, return_sequences=False)(embeddings)\n",
        "\n",
        "dense = tf.keras.layers.Dense(64, activation='relu')(gru)\n",
        "outputs = tf.keras.layers.Dense(len(label2id), activation='softmax')(dense)\n",
        "\n",
        "model1 = tf.keras.Model(inputs=inputs, outputs=outputs)\n",
        "optimizer = tf.keras.optimizers.Adam(learning_rate=0.001)\n",
        "model1.compile(optimizer=optimizer,\n",
        "              loss='categorical_crossentropy',\n",
        "              metrics=[f1, tf.keras.metrics.RecallAtPrecision(0.8, name='rec@prec')])\n"
      ],
      "metadata": {
        "id": "nfdgH1aHzmT6"
      },
      "execution_count": 99,
      "outputs": []
    },
    {
      "cell_type": "code",
      "source": [
        "model1.fit(X_train, y_train, \n",
        "          validation_data=(X_valid, y_valid),\n",
        "          batch_size=1000,\n",
        "         epochs=20)"
      ],
      "metadata": {
        "id": "XhfniTlPz_Lw"
      },
      "execution_count": null,
      "outputs": []
    },
    {
      "cell_type": "code",
      "source": [
        "plt.plot(model1.history.history['rec@prec'])\n",
        "plt.plot(model1.history.history['val_rec@prec'])\n",
        "plt.title('model (1 gru) f1')\n",
        "plt.ylabel('f1')\n",
        "plt.xlabel('epoch')\n",
        "plt.legend(['train', 'val'], loc='upper left')\n",
        "plt.show()"
      ],
      "metadata": {
        "colab": {
          "base_uri": "https://localhost:8080/",
          "height": 295
        },
        "id": "bpmUB7l87o2Q",
        "outputId": "231ce8fc-6b6d-4bec-b71b-bbd872fac8a0"
      },
      "execution_count": 101,
      "outputs": [
        {
          "output_type": "display_data",
          "data": {
            "text/plain": [
              "<Figure size 432x288 with 1 Axes>"
            ],
            "image/png": "[encoded data removed]"
          },
          "metadata": {
            "needs_background": "light"
          }
        }
      ]
    },
    {
      "cell_type": "code",
      "source": [
        "# словари для f1\n",
        "f1_train = {}\n",
        "f1_val = {}"
      ],
      "metadata": {
        "id": "vUm7uS_d-2El"
      },
      "execution_count": 103,
      "outputs": []
    },
    {
      "cell_type": "code",
      "source": [
        "f1_train['f1_gru'] = float('{:.2f}'.format(model1.history.history['f1'][-1]))\n",
        "f1_val['f1_gru'] = float('{:.2f}'.format(model1.history.history['val_f1'][-1]))"
      ],
      "metadata": {
        "id": "OcoDV_D997pv"
      },
      "execution_count": 104,
      "outputs": []
    },
    {
      "cell_type": "code",
      "source": [
        "f1_train, f1_val"
      ],
      "metadata": {
        "colab": {
          "base_uri": "https://localhost:8080/"
        },
        "id": "QBBotNsS_ABI",
        "outputId": "f5afcc04-f70b-4fd1-9d2f-7e2bac3aea6b"
      },
      "execution_count": 107,
      "outputs": [
        {
          "output_type": "execute_result",
          "data": {
            "text/plain": [
              "({'f1_gru': 0.98}, {'f1_gru': 0.61})"
            ]
          },
          "metadata": {},
          "execution_count": 107
        }
      ]
    },
    {
      "cell_type": "markdown",
      "source": [
        "## 1 Lstm слой"
      ],
      "metadata": {
        "id": "CUI5GKGX_M3-"
      }
    },
    {
      "cell_type": "code",
      "source": [
        "inputs = tf.keras.layers.Input(shape=(MAX_LEN,))\n",
        "embeddings = tf.keras.layers.Embedding(input_dim=len(word2id), output_dim=30)(inputs, )\n",
        "\n",
        "lstm = tf.keras.layers.LSTM(128, return_sequences=False)(embeddings)\n",
        "\n",
        "outputs = tf.keras.layers.Dense(len(label2id), activation='softmax')(lstm)\n",
        "\n",
        "model2 = tf.keras.Model(inputs=inputs, outputs=outputs)\n",
        "optimizer = tf.keras.optimizers.Adam(learning_rate=0.001)\n",
        "model2.compile(optimizer=optimizer,\n",
        "              loss='categorical_crossentropy',\n",
        "              metrics=[f1, tf.keras.metrics.RecallAtPrecision(0.8, name='rec@prec')])\n"
      ],
      "metadata": {
        "id": "8Om6rh-Q_Ovm"
      },
      "execution_count": 108,
      "outputs": []
    },
    {
      "cell_type": "code",
      "source": [
        "model2.fit(X_train, y_train, \n",
        "          validation_data=(X_valid, y_valid),\n",
        "          batch_size=1000,\n",
        "         epochs=20)"
      ],
      "metadata": {
        "id": "TF-ZIVsU_VLU"
      },
      "execution_count": null,
      "outputs": []
    },
    {
      "cell_type": "code",
      "source": [
        "plt.plot(model2.history.history['rec@prec'])\n",
        "plt.plot(model2.history.history['val_rec@prec'])\n",
        "plt.title('model (1 lstm) f1')\n",
        "plt.ylabel('f1')\n",
        "plt.xlabel('epoch')\n",
        "plt.legend(['train', 'val'], loc='upper left')\n",
        "plt.show()"
      ],
      "metadata": {
        "colab": {
          "base_uri": "https://localhost:8080/",
          "height": 295
        },
        "id": "OpBMWTcqDTWA",
        "outputId": "d94b9b0c-fd55-48c2-f1ab-15c1904d0876"
      },
      "execution_count": 110,
      "outputs": [
        {
          "output_type": "display_data",
          "data": {
            "text/plain": [
              "<Figure size 432x288 with 1 Axes>"
            ],
            "image/png": "[encoded data removed]"
          },
          "metadata": {
            "needs_background": "light"
          }
        }
      ]
    },
    {
      "cell_type": "code",
      "source": [
        "f1_train['f1 1 lstm'] = float('{:.2f}'.format(model2.history.history['f1'][-1]))\n",
        "f1_val['f1 1 lstm'] = float('{:.2f}'.format(model2.history.history['val_f1'][-1]))"
      ],
      "metadata": {
        "id": "gtMsJRqwEjNt"
      },
      "execution_count": 111,
      "outputs": []
    },
    {
      "cell_type": "code",
      "source": [
        "f1_train, f1_val"
      ],
      "metadata": {
        "colab": {
          "base_uri": "https://localhost:8080/"
        },
        "id": "pXCSkgTJFp2u",
        "outputId": "98a8ab50-628e-499e-d25b-6968277d07c1"
      },
      "execution_count": 112,
      "outputs": [
        {
          "output_type": "execute_result",
          "data": {
            "text/plain": [
              "({'f1_gru': 0.98, 'f1 1 lstm': 0.93}, {'f1_gru': 0.61, 'f1 1 lstm': 0.67})"
            ]
          },
          "metadata": {},
          "execution_count": 112
        }
      ]
    },
    {
      "cell_type": "markdown",
      "source": [
        "## 1 GRU и 1 LSTM слои"
      ],
      "metadata": {
        "id": "ckN105iVEoFe"
      }
    },
    {
      "cell_type": "code",
      "source": [
        "inputs = tf.keras.layers.Input(shape=(MAX_LEN,))\n",
        "embeddings = tf.keras.layers.Embedding(input_dim=len(word2id), output_dim=30)(inputs, )\n",
        "\n",
        "gru = tf.keras.layers.GRU(128, return_sequences=True)(embeddings)\n",
        "lstm = tf.keras.layers.LSTM(128, return_sequences=False)(gru)\n",
        "\n",
        "dense = tf.keras.layers.Dense(64, activation='relu')(lstm)\n",
        "outputs = tf.keras.layers.Dense(len(label2id), activation='softmax')(dense)\n",
        "\n",
        "model3 = tf.keras.Model(inputs=inputs, outputs=outputs)\n",
        "optimizer = tf.keras.optimizers.Adam(learning_rate=0.001)\n",
        "model3.compile(optimizer=optimizer,\n",
        "              loss='categorical_crossentropy',\n",
        "              metrics=[f1, tf.keras.metrics.RecallAtPrecision(0.8, name='rec@prec')])\n"
      ],
      "metadata": {
        "id": "KhLXNGzUEnM9"
      },
      "execution_count": 113,
      "outputs": []
    },
    {
      "cell_type": "code",
      "source": [
        "model3.fit(X_train, y_train, \n",
        "          validation_data=(X_valid, y_valid),\n",
        "          batch_size=1000,\n",
        "         epochs=20)"
      ],
      "metadata": {
        "id": "6IJY75IuFvJk"
      },
      "execution_count": null,
      "outputs": []
    },
    {
      "cell_type": "code",
      "source": [
        "plt.plot(model3.history.history['rec@prec'])\n",
        "plt.plot(model3.history.history['val_rec@prec'])\n",
        "plt.title('model (1 gru + 1 lstm) f1')\n",
        "plt.ylabel('f1')\n",
        "plt.xlabel('epoch')\n",
        "plt.legend(['train', 'val'], loc='upper left')\n",
        "plt.show()"
      ],
      "metadata": {
        "colab": {
          "base_uri": "https://localhost:8080/",
          "height": 295
        },
        "id": "D1Z2MmoDF0Kr",
        "outputId": "c3af8aa0-6f78-4174-e274-4f8a7c555193"
      },
      "execution_count": 115,
      "outputs": [
        {
          "output_type": "display_data",
          "data": {
            "text/plain": [
              "<Figure size 432x288 with 1 Axes>"
            ],
            "image/png": "[encoded data removed]"
          },
          "metadata": {
            "needs_background": "light"
          }
        }
      ]
    },
    {
      "cell_type": "code",
      "source": [
        "f1_train['f1 1 gru + 1 lstm'] = float('{:.2f}'.format(model3.history.history['f1'][-1]))\n",
        "f1_val['f1 1 gru + 1 lstm'] = float('{:.2f}'.format(model3.history.history['val_f1'][-1]))"
      ],
      "metadata": {
        "id": "QDWcjP48F5GP"
      },
      "execution_count": 118,
      "outputs": []
    },
    {
      "cell_type": "code",
      "source": [
        "f1_train, f1_val"
      ],
      "metadata": {
        "id": "PwfaVgNgGZXL"
      },
      "execution_count": null,
      "outputs": []
    },
    {
      "cell_type": "markdown",
      "source": [
        "## 1 BIGRU и 2 LSTM слои"
      ],
      "metadata": {
        "id": "rvl4HEdpF8AV"
      }
    },
    {
      "cell_type": "code",
      "source": [
        "inputs = tf.keras.layers.Input(shape=(MAX_LEN,))\n",
        "embeddings = tf.keras.layers.Embedding(input_dim=len(word2id), output_dim=30)(inputs, )\n",
        "\n",
        "bigru = tf.keras.layers.Bidirectional(tf.keras.layers.GRU(128, return_sequences=True))(embeddings)\n",
        "lstm1 = tf.keras.layers.LSTM(128, return_sequences=True)(bigru)\n",
        "lstm2 = tf.keras.layers.LSTM(128, return_sequences=False)(lstm1)\n",
        "\n",
        "dense = tf.keras.layers.Dense(64, activation='relu')(lstm2)\n",
        "outputs = tf.keras.layers.Dense(len(label2id), activation='softmax')(dense)\n",
        "\n",
        "model4 = tf.keras.Model(inputs=inputs, outputs=outputs)\n",
        "optimizer = tf.keras.optimizers.Adam(learning_rate=0.001)\n",
        "model4.compile(optimizer=optimizer,\n",
        "              loss='categorical_crossentropy',\n",
        "              metrics=[f1, tf.keras.metrics.RecallAtPrecision(0.8, name='rec@prec')])\n"
      ],
      "metadata": {
        "id": "6ZJ24XReF7X4"
      },
      "execution_count": 121,
      "outputs": []
    },
    {
      "cell_type": "code",
      "source": [
        "model4.fit(X_train, y_train, \n",
        "          validation_data=(X_valid, y_valid),\n",
        "          batch_size=1000,\n",
        "         epochs=20)"
      ],
      "metadata": {
        "id": "mdhZ-raSGb_z"
      },
      "execution_count": null,
      "outputs": []
    },
    {
      "cell_type": "code",
      "source": [
        "plt.plot(model4.history.history['rec@prec'])\n",
        "plt.plot(model4.history.history['val_rec@prec'])\n",
        "plt.title('model (1 bigru + 2 lstm) f1')\n",
        "plt.ylabel('f1')\n",
        "plt.xlabel('epoch')\n",
        "plt.legend(['train', 'val'], loc='upper left')\n",
        "plt.show()"
      ],
      "metadata": {
        "colab": {
          "base_uri": "https://localhost:8080/",
          "height": 295
        },
        "id": "uW1mWthwGeR5",
        "outputId": "71613c8f-ba72-470d-e586-3486c9a0ccdf"
      },
      "execution_count": 123,
      "outputs": [
        {
          "output_type": "display_data",
          "data": {
            "text/plain": [
              "<Figure size 432x288 with 1 Axes>"
            ],
            "image/png": "[encoded data removed]"
          },
          "metadata": {
            "needs_background": "light"
          }
        }
      ]
    },
    {
      "cell_type": "code",
      "source": [
        "f1_train['f1 1 bigru + 2 lstm'] = float('{:.2f}'.format(model4.history.history['f1'][-1]))\n",
        "f1_val['f1 1 bigru + 2 lstm'] = float('{:.2f}'.format(model4.history.history['val_f1'][-1]))"
      ],
      "metadata": {
        "id": "bT3DdsnwGlCj"
      },
      "execution_count": 124,
      "outputs": []
    },
    {
      "cell_type": "code",
      "source": [
        "f1_train, f1_val"
      ],
      "metadata": {
        "id": "qgIMBXfMGoYN"
      },
      "execution_count": null,
      "outputs": []
    },
    {
      "cell_type": "markdown",
      "source": [
        "## 5 GRU и 3 LSTM слоя"
      ],
      "metadata": {
        "id": "03DKpUMDGtrd"
      }
    },
    {
      "cell_type": "code",
      "source": [
        "inputs = tf.keras.layers.Input(shape=(MAX_LEN,))\n",
        "embeddings = tf.keras.layers.Embedding(input_dim=len(word2id), output_dim=30)(inputs, )\n",
        "\n",
        "gru1 = tf.keras.layers.GRU(128, return_sequences=True)(embeddings)\n",
        "gru2 = tf.keras.layers.GRU(128, return_sequences=True)(gru1)\n",
        "gru3 = tf.keras.layers.GRU(128, return_sequences=True)(gru2)\n",
        "gru4 = tf.keras.layers.GRU(128, return_sequences=True)(gru3)\n",
        "gru5 = tf.keras.layers.GRU(128, return_sequences=True)(gru4)\n",
        "\n",
        "lstm1 = tf.keras.layers.LSTM(128, return_sequences=True)(gru5)\n",
        "lstm2 = tf.keras.layers.LSTM(128, return_sequences=True)(lstm1)\n",
        "lstm3 = tf.keras.layers.LSTM(128, return_sequences=False)(lstm2)\n",
        "\n",
        "dense = tf.keras.layers.Dense(64, activation='relu')(lstm3)\n",
        "outputs = tf.keras.layers.Dense(len(label2id), activation='softmax')(dense)\n",
        "\n",
        "model5 = tf.keras.Model(inputs=inputs, outputs=outputs)\n",
        "optimizer = tf.keras.optimizers.Adam(learning_rate=0.001)\n",
        "model5.compile(optimizer=optimizer,\n",
        "              loss='categorical_crossentropy',\n",
        "              metrics=[f1, tf.keras.metrics.RecallAtPrecision(0.8, name='rec@prec')])\n"
      ],
      "metadata": {
        "id": "7C2p6TeNG1gb"
      },
      "execution_count": 126,
      "outputs": []
    },
    {
      "cell_type": "code",
      "source": [
        "model5.fit(X_train, y_train, \n",
        "          validation_data=(X_valid, y_valid),\n",
        "          batch_size=1000,\n",
        "         epochs=20)"
      ],
      "metadata": {
        "id": "mM80gqlDHgIw"
      },
      "execution_count": null,
      "outputs": []
    },
    {
      "cell_type": "code",
      "source": [
        "plt.plot(model5.history.history['rec@prec'])\n",
        "plt.plot(model5.history.history['val_rec@prec'])\n",
        "plt.title('model (5 gru + 3 lstm) f1')\n",
        "plt.ylabel('f1')\n",
        "plt.xlabel('epoch')\n",
        "plt.legend(['train', 'val'], loc='upper left')\n",
        "plt.show()"
      ],
      "metadata": {
        "colab": {
          "base_uri": "https://localhost:8080/",
          "height": 295
        },
        "id": "M3I8OdQaHTgc",
        "outputId": "907ad9a3-09bd-417a-f0d7-0388fe5abd04"
      },
      "execution_count": 128,
      "outputs": [
        {
          "output_type": "display_data",
          "data": {
            "text/plain": [
              "<Figure size 432x288 with 1 Axes>"
            ],
            "image/png": "[encoded data removed]"
          },
          "metadata": {
            "needs_background": "light"
          }
        }
      ]
    },
    {
      "cell_type": "code",
      "source": [
        "f1_train['f1 5 gru + 3 lstm'] = float('{:.2f}'.format(model5.history.history['f1'][-1]))\n",
        "f1_val['f1 5 gru + 3 lstm'] = float('{:.2f}'.format(model5.history.history['val_f1'][-1]))"
      ],
      "metadata": {
        "id": "jiUG-2cQHXAq"
      },
      "execution_count": 129,
      "outputs": []
    },
    {
      "cell_type": "code",
      "source": [
        "f1_train, f1_val"
      ],
      "metadata": {
        "id": "tfIBlZz8HavV"
      },
      "execution_count": null,
      "outputs": []
    },
    {
      "cell_type": "markdown",
      "source": [
        "## 1 BIGRU и 1 BILSTM"
      ],
      "metadata": {
        "id": "l8xXfBCtHkYe"
      }
    },
    {
      "cell_type": "code",
      "source": [
        "inputs = tf.keras.layers.Input(shape=(MAX_LEN,))\n",
        "embeddings = tf.keras.layers.Embedding(input_dim=len(word2id), output_dim=30)(inputs, )\n",
        "\n",
        "bigru_bilstm = tf.keras.layers.Bidirectional(tf.keras.layers.GRU(128, return_sequences=False),\n",
        "                                             backward_layer=tf.keras.layers.LSTM(128, return_sequences=False, \n",
        "                                                                                 go_backwards=True))(embeddings)\n",
        "\n",
        "dense = tf.keras.layers.Dense(64, activation='relu')(bigru_bilstm)\n",
        "outputs = tf.keras.layers.Dense(len(label2id), activation='softmax')(dense)\n",
        "\n",
        "model6 = tf.keras.Model(inputs=inputs, outputs=outputs)\n",
        "optimizer = tf.keras.optimizers.Adam(learning_rate=0.001)\n",
        "model6.compile(optimizer=optimizer,\n",
        "              loss='categorical_crossentropy',\n",
        "              metrics=[f1, tf.keras.metrics.RecallAtPrecision(0.8, name='rec@prec')])\n"
      ],
      "metadata": {
        "id": "Vxbxow9AHqys"
      },
      "execution_count": 131,
      "outputs": []
    },
    {
      "cell_type": "code",
      "source": [
        "model6.fit(X_train, y_train, \n",
        "          validation_data=(X_valid, y_valid),\n",
        "          batch_size=1000,\n",
        "         epochs=20)"
      ],
      "metadata": {
        "id": "7Ypm4_7qLH5o"
      },
      "execution_count": null,
      "outputs": []
    },
    {
      "cell_type": "code",
      "source": [
        "plt.plot(model6.history.history['rec@prec'])\n",
        "plt.plot(model6.history.history['val_rec@prec'])\n",
        "plt.title('model (bigru+bilstm) f1')\n",
        "plt.ylabel('f1')\n",
        "plt.xlabel('epoch')\n",
        "plt.legend(['train', 'val'], loc='upper left')\n",
        "plt.show()"
      ],
      "metadata": {
        "colab": {
          "base_uri": "https://localhost:8080/",
          "height": 295
        },
        "id": "NPOh3IH7LJ_2",
        "outputId": "11af1b1b-f95f-4964-b9c0-a936a1d68a77"
      },
      "execution_count": 133,
      "outputs": [
        {
          "output_type": "display_data",
          "data": {
            "text/plain": [
              "<Figure size 432x288 with 1 Axes>"
            ],
            "image/png": "[encoded data removed]"
          },
          "metadata": {
            "needs_background": "light"
          }
        }
      ]
    },
    {
      "cell_type": "code",
      "source": [
        "f1_train['bigru+bilstm'] = float('{:.2f}'.format(model6.history.history['f1'][-1]))\n",
        "f1_val['bigru+bilstm'] = float('{:.2f}'.format(model6.history.history['val_f1'][-1]))"
      ],
      "metadata": {
        "id": "LhPHbxprLOii"
      },
      "execution_count": 134,
      "outputs": []
    },
    {
      "cell_type": "code",
      "source": [
        "f1_train, f1_val"
      ],
      "metadata": {
        "id": "WMx77YQOLSJR"
      },
      "execution_count": null,
      "outputs": []
    },
    {
      "cell_type": "markdown",
      "source": [
        "##  LSTM, GRU, BILSTM, BIGRU, GRU, LSTM"
      ],
      "metadata": {
        "id": "Y7dxB4Z8L-Yd"
      }
    },
    {
      "cell_type": "code",
      "source": [
        "inputs = tf.keras.layers.Input(shape=(MAX_LEN,))\n",
        "embeddings = tf.keras.layers.Embedding(input_dim=len(word2id), output_dim=30)(inputs, )\n",
        "\n",
        "lstm1 = tf.keras.layers.LSTM(128, return_sequences=True)(embeddings)\n",
        "gru1 = tf.keras.layers.GRU(128, return_sequences=True)(lstm1)\n",
        "bilstm = tf.keras.layers.Bidirectional(tf.keras.layers.LSTM(128, return_sequences=True))(gru1)\n",
        "bigru = tf.keras.layers.Bidirectional(tf.keras.layers.GRU(128, return_sequences=True))(bilstm)\n",
        "gru2 = tf.keras.layers.GRU(128, return_sequences=True)(bigru)\n",
        "lstm2 = tf.keras.layers.LSTM(128, return_sequences=False)(gru2)\n",
        "\n",
        "dense = tf.keras.layers.Dense(64, activation='relu')(lstm2)\n",
        "outputs = tf.keras.layers.Dense(len(label2id), activation='softmax')(dense)\n",
        "\n",
        "model7 = tf.keras.Model(inputs=inputs, outputs=outputs)\n",
        "optimizer = tf.keras.optimizers.Adam(learning_rate=0.001)\n",
        "model7.compile(optimizer=optimizer,\n",
        "              loss='categorical_crossentropy',\n",
        "              metrics=[f1, tf.keras.metrics.RecallAtPrecision(0.8, name='rec@prec')])\n"
      ],
      "metadata": {
        "id": "zY9BI0dfMBBg"
      },
      "execution_count": 146,
      "outputs": []
    },
    {
      "cell_type": "code",
      "source": [
        "model7.fit(X_train, y_train, \n",
        "          validation_data=(X_valid, y_valid),\n",
        "          batch_size=1000,\n",
        "         epochs=20)"
      ],
      "metadata": {
        "id": "63t9dNkaNAAh"
      },
      "execution_count": null,
      "outputs": []
    },
    {
      "cell_type": "code",
      "source": [
        "plt.plot(model7.history.history['rec@prec'])\n",
        "plt.plot(model7.history.history['val_rec@prec'])\n",
        "plt.title('model (LSTM, GRU, BILSTM, BIGRU, GRU, LSTM) f1')\n",
        "plt.ylabel('f1')\n",
        "plt.xlabel('epoch')\n",
        "plt.legend(['train', 'val'], loc='upper left')\n",
        "plt.show()"
      ],
      "metadata": {
        "colab": {
          "base_uri": "https://localhost:8080/",
          "height": 295
        },
        "id": "xV7ulw1YNG2U",
        "outputId": "ae0a218b-4866-4463-8954-99719b350add"
      },
      "execution_count": 148,
      "outputs": [
        {
          "output_type": "display_data",
          "data": {
            "text/plain": [
              "<Figure size 432x288 with 1 Axes>"
            ],
            "image/png": "[encoded data removed]"
          },
          "metadata": {
            "needs_background": "light"
          }
        }
      ]
    },
    {
      "cell_type": "code",
      "source": [
        "f1_train['LSTM, GRU, BILSTM, BIGRU, GRU, LSTM'] = float('{:.2f}'.format(model7.history.history['f1'][-1]))\n",
        "f1_val['LSTM, GRU, BILSTM, BIGRU, GRU, LSTM'] = float('{:.2f}'.format(model7.history.history['val_f1'][-1]))"
      ],
      "metadata": {
        "id": "iv7p9Rp2NNE2"
      },
      "execution_count": 150,
      "outputs": []
    },
    {
      "cell_type": "markdown",
      "source": [
        "## Итоги"
      ],
      "metadata": {
        "id": "BKHfFrwDN2zh"
      }
    },
    {
      "cell_type": "code",
      "source": [
        "f1_df = pd.DataFrame.from_dict(f1_train, orient='index', columns=['f1-score'])\n",
        "f1_val_df = pd.DataFrame.from_dict(f1_val, orient='index', columns=['f1-score'])"
      ],
      "metadata": {
        "id": "9mX3Rz2rN9WJ"
      },
      "execution_count": 151,
      "outputs": []
    },
    {
      "cell_type": "code",
      "source": [
        "f1_df.sort_values(by=['f1-score'], ascending=False)"
      ],
      "metadata": {
        "colab": {
          "base_uri": "https://localhost:8080/",
          "height": 268
        },
        "id": "Ih5X8ribQHox",
        "outputId": "00b4ed57-875f-472b-dd2d-f0280599fdc1"
      },
      "execution_count": 152,
      "outputs": [
        {
          "output_type": "execute_result",
          "data": {
            "text/plain": [
              "                                     f1-score\n",
              "f1_gru                                   0.98\n",
              "f1 1 lstm                                0.93\n",
              "bigru+bilstm                             0.92\n",
              "f1 1 bigru + 2 lstm                      0.89\n",
              "LSTM, GRU, BILSTM, BIGRU, GRU, LSTM      0.73\n",
              "f1 1 gru + 1 lstm                        0.70\n",
              "f1 5 gru + 3 lstm                        0.53"
            ],
            "text/html": [
              "\n",
              "  <div id=\"df-be10ef7f-a846-45d2-a8a5-1445b1af705f\">\n",
              "    <div class=\"colab-df-container\">\n",
              "      <div>\n",
              "<style scoped>\n",
              "    .dataframe tbody tr th:only-of-type {\n",
              "        vertical-align: middle;\n",
              "    }\n",
              "\n",
              "    .dataframe tbody tr th {\n",
              "        vertical-align: top;\n",
              "    }\n",
              "\n",
              "    .dataframe thead th {\n",
              "        text-align: right;\n",
              "    }\n",
              "</style>\n",
              "<table border=\"1\" class=\"dataframe\">\n",
              "  <thead>\n",
              "    <tr style=\"text-align: right;\">\n",
              "      <th></th>\n",
              "      <th>f1-score</th>\n",
              "    </tr>\n",
              "  </thead>\n",
              "  <tbody>\n",
              "    <tr>\n",
              "      <th>f1_gru</th>\n",
              "      <td>0.98</td>\n",
              "    </tr>\n",
              "    <tr>\n",
              "      <th>f1 1 lstm</th>\n",
              "      <td>0.93</td>\n",
              "    </tr>\n",
              "    <tr>\n",
              "      <th>bigru+bilstm</th>\n",
              "      <td>0.92</td>\n",
              "    </tr>\n",
              "    <tr>\n",
              "      <th>f1 1 bigru + 2 lstm</th>\n",
              "      <td>0.89</td>\n",
              "    </tr>\n",
              "    <tr>\n",
              "      <th>LSTM, GRU, BILSTM, BIGRU, GRU, LSTM</th>\n",
              "      <td>0.73</td>\n",
              "    </tr>\n",
              "    <tr>\n",
              "      <th>f1 1 gru + 1 lstm</th>\n",
              "      <td>0.70</td>\n",
              "    </tr>\n",
              "    <tr>\n",
              "      <th>f1 5 gru + 3 lstm</th>\n",
              "      <td>0.53</td>\n",
              "    </tr>\n",
              "  </tbody>\n",
              "</table>\n",
              "</div>\n",
              "      <button class=\"colab-df-convert\" onclick=\"convertToInteractive('df-be10ef7f-a846-45d2-a8a5-1445b1af705f')\"\n",
              "              title=\"Convert this dataframe to an interactive table.\"\n",
              "              style=\"display:none;\">\n",
              "        \n",
              "  <svg xmlns=\"http://www.w3.org/2000/svg\" height=\"24px\"viewBox=\"0 0 24 24\"\n",
              "       width=\"24px\">\n",
              "    <path d=\"M0 0h24v24H0V0z\" fill=\"none\"/>\n",
              "    <path d=\"M18.56 5.44l.94 2.06.94-2.06 2.06-.94-2.06-.94-.94-2.06-.94 2.06-2.06.94zm-11 1L8.5 8.5l.94-2.06 2.06-.94-2.06-.94L8.5 2.5l-.94 2.06-2.06.94zm10 10l.94 2.06.94-2.06 2.06-.94-2.06-.94-.94-2.06-.94 2.06-2.06.94z\"/><path d=\"M17.41 7.96l-1.37-1.37c-.4-.4-.92-.59-1.43-.59-.52 0-1.04.2-1.43.59L10.3 9.45l-7.72 7.72c-.78.78-.78 2.05 0 2.83L4 21.41c.39.39.9.59 1.41.59.51 0 1.02-.2 1.41-.59l7.78-7.78 2.81-2.81c.8-.78.8-2.07 0-2.86zM5.41 20L4 18.59l7.72-7.72 1.47 1.35L5.41 20z\"/>\n",
              "  </svg>\n",
              "      </button>\n",
              "      \n",
              "  <style>\n",
              "    .colab-df-container {\n",
              "      display:flex;\n",
              "      flex-wrap:wrap;\n",
              "      gap: 12px;\n",
              "    }\n",
              "\n",
              "    .colab-df-convert {\n",
              "      background-color: #E8F0FE;\n",
              "      border: none;\n",
              "      border-radius: 50%;\n",
              "      cursor: pointer;\n",
              "      display: none;\n",
              "      fill: #1967D2;\n",
              "      height: 32px;\n",
              "      padding: 0 0 0 0;\n",
              "      width: 32px;\n",
              "    }\n",
              "\n",
              "    .colab-df-convert:hover {\n",
              "      background-color: #E2EBFA;\n",
              "      box-shadow: 0px 1px 2px rgba(60, 64, 67, 0.3), 0px 1px 3px 1px rgba(60, 64, 67, 0.15);\n",
              "      fill: #174EA6;\n",
              "    }\n",
              "\n",
              "    [theme=dark] .colab-df-convert {\n",
              "      background-color: #3B4455;\n",
              "      fill: #D2E3FC;\n",
              "    }\n",
              "\n",
              "    [theme=dark] .colab-df-convert:hover {\n",
              "      background-color: #434B5C;\n",
              "      box-shadow: 0px 1px 3px 1px rgba(0, 0, 0, 0.15);\n",
              "      filter: drop-shadow(0px 1px 2px rgba(0, 0, 0, 0.3));\n",
              "      fill: #FFFFFF;\n",
              "    }\n",
              "  </style>\n",
              "\n",
              "      <script>\n",
              "        const buttonEl =\n",
              "          document.querySelector('#df-be10ef7f-a846-45d2-a8a5-1445b1af705f button.colab-df-convert');\n",
              "        buttonEl.style.display =\n",
              "          google.colab.kernel.accessAllowed ? 'block' : 'none';\n",
              "\n",
              "        async function convertToInteractive(key) {\n",
              "          const element = document.querySelector('#df-be10ef7f-a846-45d2-a8a5-1445b1af705f');\n",
              "          const dataTable =\n",
              "            await google.colab.kernel.invokeFunction('convertToInteractive',\n",
              "                                                     [key], {});\n",
              "          if (!dataTable) return;\n",
              "\n",
              "          const docLinkHtml = 'Like what you see? Visit the ' +\n",
              "            '<a target=\"_blank\" href=https://colab.research.google.com/notebooks/data_table.ipynb>data table notebook</a>'\n",
              "            + ' to learn more about interactive tables.';\n",
              "          element.innerHTML = '';\n",
              "          dataTable['output_type'] = 'display_data';\n",
              "          await google.colab.output.renderOutput(dataTable, element);\n",
              "          const docLink = document.createElement('div');\n",
              "          docLink.innerHTML = docLinkHtml;\n",
              "          element.appendChild(docLink);\n",
              "        }\n",
              "      </script>\n",
              "    </div>\n",
              "  </div>\n",
              "  "
            ]
          },
          "metadata": {},
          "execution_count": 152
        }
      ]
    },
    {
      "cell_type": "code",
      "source": [
        "f1_val_df.sort_values(by=['f1-score'], ascending=False)"
      ],
      "metadata": {
        "colab": {
          "base_uri": "https://localhost:8080/",
          "height": 268
        },
        "id": "0WbJJmJCLbhd",
        "outputId": "693d2ad1-bc8a-4a68-ae8a-746e2f22a25f"
      },
      "execution_count": 153,
      "outputs": [
        {
          "output_type": "execute_result",
          "data": {
            "text/plain": [
              "                                     f1-score\n",
              "f1 1 lstm                                0.67\n",
              "f1 1 bigru + 2 lstm                      0.66\n",
              "f1_gru                                   0.61\n",
              "LSTM, GRU, BILSTM, BIGRU, GRU, LSTM      0.59\n",
              "f1 1 gru + 1 lstm                        0.57\n",
              "bigru+bilstm                             0.55\n",
              "f1 5 gru + 3 lstm                        0.47"
            ],
            "text/html": [
              "\n",
              "  <div id=\"df-f975a657-c088-45cd-a75e-701d83e5be09\">\n",
              "    <div class=\"colab-df-container\">\n",
              "      <div>\n",
              "<style scoped>\n",
              "    .dataframe tbody tr th:only-of-type {\n",
              "        vertical-align: middle;\n",
              "    }\n",
              "\n",
              "    .dataframe tbody tr th {\n",
              "        vertical-align: top;\n",
              "    }\n",
              "\n",
              "    .dataframe thead th {\n",
              "        text-align: right;\n",
              "    }\n",
              "</style>\n",
              "<table border=\"1\" class=\"dataframe\">\n",
              "  <thead>\n",
              "    <tr style=\"text-align: right;\">\n",
              "      <th></th>\n",
              "      <th>f1-score</th>\n",
              "    </tr>\n",
              "  </thead>\n",
              "  <tbody>\n",
              "    <tr>\n",
              "      <th>f1 1 lstm</th>\n",
              "      <td>0.67</td>\n",
              "    </tr>\n",
              "    <tr>\n",
              "      <th>f1 1 bigru + 2 lstm</th>\n",
              "      <td>0.66</td>\n",
              "    </tr>\n",
              "    <tr>\n",
              "      <th>f1_gru</th>\n",
              "      <td>0.61</td>\n",
              "    </tr>\n",
              "    <tr>\n",
              "      <th>LSTM, GRU, BILSTM, BIGRU, GRU, LSTM</th>\n",
              "      <td>0.59</td>\n",
              "    </tr>\n",
              "    <tr>\n",
              "      <th>f1 1 gru + 1 lstm</th>\n",
              "      <td>0.57</td>\n",
              "    </tr>\n",
              "    <tr>\n",
              "      <th>bigru+bilstm</th>\n",
              "      <td>0.55</td>\n",
              "    </tr>\n",
              "    <tr>\n",
              "      <th>f1 5 gru + 3 lstm</th>\n",
              "      <td>0.47</td>\n",
              "    </tr>\n",
              "  </tbody>\n",
              "</table>\n",
              "</div>\n",
              "      <button class=\"colab-df-convert\" onclick=\"convertToInteractive('df-f975a657-c088-45cd-a75e-701d83e5be09')\"\n",
              "              title=\"Convert this dataframe to an interactive table.\"\n",
              "              style=\"display:none;\">\n",
              "        \n",
              "  <svg xmlns=\"http://www.w3.org/2000/svg\" height=\"24px\"viewBox=\"0 0 24 24\"\n",
              "       width=\"24px\">\n",
              "    <path d=\"M0 0h24v24H0V0z\" fill=\"none\"/>\n",
              "    <path d=\"M18.56 5.44l.94 2.06.94-2.06 2.06-.94-2.06-.94-.94-2.06-.94 2.06-2.06.94zm-11 1L8.5 8.5l.94-2.06 2.06-.94-2.06-.94L8.5 2.5l-.94 2.06-2.06.94zm10 10l.94 2.06.94-2.06 2.06-.94-2.06-.94-.94-2.06-.94 2.06-2.06.94z\"/><path d=\"M17.41 7.96l-1.37-1.37c-.4-.4-.92-.59-1.43-.59-.52 0-1.04.2-1.43.59L10.3 9.45l-7.72 7.72c-.78.78-.78 2.05 0 2.83L4 21.41c.39.39.9.59 1.41.59.51 0 1.02-.2 1.41-.59l7.78-7.78 2.81-2.81c.8-.78.8-2.07 0-2.86zM5.41 20L4 18.59l7.72-7.72 1.47 1.35L5.41 20z\"/>\n",
              "  </svg>\n",
              "      </button>\n",
              "      \n",
              "  <style>\n",
              "    .colab-df-container {\n",
              "      display:flex;\n",
              "      flex-wrap:wrap;\n",
              "      gap: 12px;\n",
              "    }\n",
              "\n",
              "    .colab-df-convert {\n",
              "      background-color: #E8F0FE;\n",
              "      border: none;\n",
              "      border-radius: 50%;\n",
              "      cursor: pointer;\n",
              "      display: none;\n",
              "      fill: #1967D2;\n",
              "      height: 32px;\n",
              "      padding: 0 0 0 0;\n",
              "      width: 32px;\n",
              "    }\n",
              "\n",
              "    .colab-df-convert:hover {\n",
              "      background-color: #E2EBFA;\n",
              "      box-shadow: 0px 1px 2px rgba(60, 64, 67, 0.3), 0px 1px 3px 1px rgba(60, 64, 67, 0.15);\n",
              "      fill: #174EA6;\n",
              "    }\n",
              "\n",
              "    [theme=dark] .colab-df-convert {\n",
              "      background-color: #3B4455;\n",
              "      fill: #D2E3FC;\n",
              "    }\n",
              "\n",
              "    [theme=dark] .colab-df-convert:hover {\n",
              "      background-color: #434B5C;\n",
              "      box-shadow: 0px 1px 3px 1px rgba(0, 0, 0, 0.15);\n",
              "      filter: drop-shadow(0px 1px 2px rgba(0, 0, 0, 0.3));\n",
              "      fill: #FFFFFF;\n",
              "    }\n",
              "  </style>\n",
              "\n",
              "      <script>\n",
              "        const buttonEl =\n",
              "          document.querySelector('#df-f975a657-c088-45cd-a75e-701d83e5be09 button.colab-df-convert');\n",
              "        buttonEl.style.display =\n",
              "          google.colab.kernel.accessAllowed ? 'block' : 'none';\n",
              "\n",
              "        async function convertToInteractive(key) {\n",
              "          const element = document.querySelector('#df-f975a657-c088-45cd-a75e-701d83e5be09');\n",
              "          const dataTable =\n",
              "            await google.colab.kernel.invokeFunction('convertToInteractive',\n",
              "                                                     [key], {});\n",
              "          if (!dataTable) return;\n",
              "\n",
              "          const docLinkHtml = 'Like what you see? Visit the ' +\n",
              "            '<a target=\"_blank\" href=https://colab.research.google.com/notebooks/data_table.ipynb>data table notebook</a>'\n",
              "            + ' to learn more about interactive tables.';\n",
              "          element.innerHTML = '';\n",
              "          dataTable['output_type'] = 'display_data';\n",
              "          await google.colab.output.renderOutput(dataTable, element);\n",
              "          const docLink = document.createElement('div');\n",
              "          docLink.innerHTML = docLinkHtml;\n",
              "          element.appendChild(docLink);\n",
              "        }\n",
              "      </script>\n",
              "    </div>\n",
              "  </div>\n",
              "  "
            ]
          },
          "metadata": {},
          "execution_count": 153
        }
      ]
    },
    {
      "cell_type": "markdown",
      "source": [
        "Для каждой модели я смотрела f1-score на валидации на последней эпохе. Самый высокий f1-score у модели с одним LSTM слоем, чуть хуже у модели с 1 bidirectional GRU и двумя LSTM слоями.\n",
        "\n",
        "Хуже всего результат у модели с самым большим числом слоев: 5 GRU и 3 LSTM.\n",
        "\n"
      ],
      "metadata": {
        "id": "hXuN2H_zQYhh"
      }
    },
    {
      "cell_type": "markdown",
      "metadata": {
        "id": "ed5d6eea"
      },
      "source": [
        "# Задание 2 (6 баллов)\n"
      ]
    },
    {
      "cell_type": "markdown",
      "metadata": {
        "id": "5c2c07cf"
      },
      "source": [
        "На данных википедии (wikiann) обучите 2 модели:  \n",
        "1) модель в которой будут использованы предобученные эмбединги слов и несколько BILSTM слоев. \n",
        "1) модель в которой будут использованы предобученные эмбединги слов и несколько BIGRU слоев. \n",
        "\n",
        "Сравните качество по метрикам. Также придумайте несколько сложных примеров и проверьте, какие сущности определяет каждая из моделей."
      ]
    },
    {
      "cell_type": "code",
      "source": [
        "!pip install datasets"
      ],
      "metadata": {
        "id": "3dClLFFn3t3V"
      },
      "execution_count": null,
      "outputs": []
    },
    {
      "cell_type": "code",
      "source": [
        "from datasets import load_dataset\n",
        "from sklearn.metrics import classification_report\n",
        "import re"
      ],
      "metadata": {
        "id": "bUd_RTw23l40"
      },
      "execution_count": 50,
      "outputs": []
    },
    {
      "cell_type": "code",
      "source": [
        "dataset = load_dataset(\"wikiann\", 'ru')"
      ],
      "metadata": {
        "id": "LrnMzQ-931dl"
      },
      "execution_count": null,
      "outputs": []
    },
    {
      "cell_type": "code",
      "source": [
        "vocab = Counter()\n",
        "\n",
        "for sent in dataset['train']['tokens']:\n",
        "    vocab.update([x.lower() for x in sent])"
      ],
      "metadata": {
        "id": "IAlaiyib37ES"
      },
      "execution_count": 9,
      "outputs": []
    },
    {
      "cell_type": "code",
      "source": [
        "word2id = {'PAD':0, 'UNK':1}\n",
        "\n",
        "for word in vocab:\n",
        "    word2id[word] = len(word2id)"
      ],
      "metadata": {
        "id": "hpKQ-XVb4kIq"
      },
      "execution_count": 11,
      "outputs": []
    },
    {
      "cell_type": "code",
      "source": [
        "id2word = {i:word for word, i in word2id.items()}"
      ],
      "metadata": {
        "id": "Xx5TztaM4p0b"
      },
      "execution_count": 12,
      "outputs": []
    },
    {
      "cell_type": "code",
      "source": [
        "X_train = []\n",
        "\n",
        "for sent in dataset['train']['tokens']:\n",
        "    tokens = [w.lower() for w in sent]\n",
        "    ids = [word2id.get(token, 1) for token in tokens]\n",
        "    X_train.append(ids)"
      ],
      "metadata": {
        "id": "s7rzgWTy4qxa"
      },
      "execution_count": 23,
      "outputs": []
    },
    {
      "cell_type": "code",
      "source": [
        "X_test = []\n",
        "\n",
        "for sent in dataset['test']['tokens']:\n",
        "    tokens = [w.lower() for w in sent]\n",
        "    ids = [word2id.get(token, 1) for token in tokens]\n",
        "    X_test.append(ids)"
      ],
      "metadata": {
        "id": "1WdmMtiU4voL"
      },
      "execution_count": 24,
      "outputs": []
    },
    {
      "cell_type": "code",
      "source": [
        "MAX_LEN = max(len(x) for x in X)"
      ],
      "metadata": {
        "id": "IuxLUd-l45AX"
      },
      "execution_count": 25,
      "outputs": []
    },
    {
      "cell_type": "code",
      "source": [
        "MAX_LEN"
      ],
      "metadata": {
        "colab": {
          "base_uri": "https://localhost:8080/"
        },
        "id": "V_jQ1-tV46Ul",
        "outputId": "1bd0c25d-11c9-4dce-bae7-718fedc20b2b"
      },
      "execution_count": 26,
      "outputs": [
        {
          "output_type": "execute_result",
          "data": {
            "text/plain": [
              "54"
            ]
          },
          "metadata": {},
          "execution_count": 26
        }
      ]
    },
    {
      "cell_type": "code",
      "source": [
        "X_train = tf.keras.preprocessing.sequence.pad_sequences(X_train, maxlen=MAX_LEN, padding='post')\n",
        "X_test = tf.keras.preprocessing.sequence.pad_sequences(X_test, maxlen=MAX_LEN, padding='post')"
      ],
      "metadata": {
        "id": "xe_Zw_TW438Z"
      },
      "execution_count": 27,
      "outputs": []
    },
    {
      "cell_type": "code",
      "source": [
        "id2labels = {0:'O', 1:'B-PER', 2:'I-PER', 3:'B-ORG', 4:'I-ORG', 5: 'B-LOC', 6:'I-LOC', 7:'PAD'}\n",
        "label2id = {v:k for k,v in id2labels.items()} "
      ],
      "metadata": {
        "id": "kUuwWm8k5Oyu"
      },
      "execution_count": 28,
      "outputs": []
    },
    {
      "cell_type": "code",
      "source": [
        "y_train = tf.keras.preprocessing.sequence.pad_sequences(dataset['train']['ner_tags'], value=7,\n",
        "                                                  maxlen=MAX_LEN,  padding='post')\n",
        "y_test = tf.keras.preprocessing.sequence.pad_sequences(dataset['test']['ner_tags'], value=7,\n",
        "                                                       maxlen=MAX_LEN,  padding='post')"
      ],
      "metadata": {
        "id": "Bxs5OSAY5Pq1"
      },
      "execution_count": 29,
      "outputs": []
    },
    {
      "cell_type": "code",
      "source": [
        "y_train.shape, y_test.shape"
      ],
      "metadata": {
        "colab": {
          "base_uri": "https://localhost:8080/"
        },
        "id": "XcTXnat35VWs",
        "outputId": "8c3ae481-b8d4-4725-da8d-b06e572132a1"
      },
      "execution_count": 31,
      "outputs": [
        {
          "output_type": "execute_result",
          "data": {
            "text/plain": [
              "((20000, 54), (10000, 54))"
            ]
          },
          "metadata": {},
          "execution_count": 31
        }
      ]
    },
    {
      "cell_type": "markdown",
      "source": [
        "### Модель с несколькими bilstm слоями\n"
      ],
      "metadata": {
        "id": "fUhdXTE165CC"
      }
    },
    {
      "cell_type": "code",
      "source": [
        "inputs = tf.keras.layers.Input(shape=(MAX_LEN,))\n",
        "embeddings = tf.keras.layers.Embedding(input_dim=len(word2id), output_dim=100)(inputs)\n",
        "\n",
        "lstm_1 = tf.keras.layers.Bidirectional(tf.keras.layers.LSTM(128, return_sequences=True))(embeddings)\n",
        "lstm_2 = tf.keras.layers.Bidirectional(tf.keras.layers.LSTM(128, return_sequences=True))(lstm_1)\n",
        "lstm_3 = tf.keras.layers.Bidirectional(tf.keras.layers.LSTM(128, return_sequences=True))(lstm_2)\n",
        "\n",
        "outputs = tf.keras.layers.Dense(len(label2id), activation='softmax')(lstm_3)\n",
        "\n",
        "model_21 = tf.keras.Model(inputs=inputs, outputs=outputs)\n",
        "model_21.compile(optimizer='adam',\n",
        "              loss='sparse_categorical_crossentropy', \n",
        "             metrics=['accuracy'])"
      ],
      "metadata": {
        "id": "1VdPcOhr5bxE"
      },
      "execution_count": 34,
      "outputs": []
    },
    {
      "cell_type": "code",
      "source": [
        "model_21.fit(X_train, y_train, \n",
        "          validation_data=(X_test, y_test),\n",
        "          batch_size=128,\n",
        "         epochs=5)"
      ],
      "metadata": {
        "id": "nJz3Eczc6Ggo"
      },
      "execution_count": null,
      "outputs": []
    },
    {
      "cell_type": "code",
      "source": [
        "plt.plot(model_21.history.history['accuracy'])\n",
        "plt.plot(model_21.history.history['val_accuracy'])\n",
        "plt.title('model with 3 bilstm layers acc')\n",
        "plt.ylabel('accuracy')\n",
        "plt.xlabel('epoch')\n",
        "plt.legend(['train', 'val'], loc='upper left')\n",
        "plt.show()"
      ],
      "metadata": {
        "colab": {
          "base_uri": "https://localhost:8080/",
          "height": 295
        },
        "id": "MUvF0_0K6URv",
        "outputId": "b3f2d4f2-8d6c-477f-ffa5-6eb4390cd20d"
      },
      "execution_count": 38,
      "outputs": [
        {
          "output_type": "display_data",
          "data": {
            "text/plain": [
              "<Figure size 432x288 with 1 Axes>"
            ],
            "image/png": "[encoded data removed]"
          },
          "metadata": {
            "needs_background": "light"
          }
        }
      ]
    },
    {
      "cell_type": "code",
      "source": [
        "y_preds = model_21.predict(X_test).argmax(2)"
      ],
      "metadata": {
        "colab": {
          "base_uri": "https://localhost:8080/"
        },
        "id": "E_36amDO6iUB",
        "outputId": "6f8746c0-f00b-4553-824c-ad699f79ffbd"
      },
      "execution_count": 41,
      "outputs": [
        {
          "output_type": "stream",
          "name": "stdout",
          "text": [
            "313/313 [==============================] - 8s 15ms/step\n"
          ]
        }
      ]
    },
    {
      "cell_type": "code",
      "source": [
        "print(classification_report(y_test.reshape(-1), y_preds.reshape(-1), labels=list(id2labels.keys()),\n",
        "                                                                     target_names=list(id2labels.values()),\n",
        "                                                                     zero_division=0))"
      ],
      "metadata": {
        "colab": {
          "base_uri": "https://localhost:8080/"
        },
        "id": "l73ZIcm66vPA",
        "outputId": "17b3a59e-46df-4684-9968-c07768d3f39e"
      },
      "execution_count": 43,
      "outputs": [
        {
          "output_type": "stream",
          "name": "stdout",
          "text": [
            "              precision    recall  f1-score   support\n",
            "\n",
            "           O       0.93      0.95      0.94     40480\n",
            "       B-PER       0.80      0.73      0.76      3542\n",
            "       I-PER       0.93      0.83      0.88      7544\n",
            "       B-ORG       0.63      0.70      0.66      4074\n",
            "       I-ORG       0.81      0.78      0.80      8008\n",
            "       B-LOC       0.73      0.68      0.70      4560\n",
            "       I-LOC       0.64      0.75      0.69      3060\n",
            "         PAD       1.00      1.00      1.00    468732\n",
            "\n",
            "    accuracy                           0.98    540000\n",
            "   macro avg       0.81      0.80      0.80    540000\n",
            "weighted avg       0.98      0.98      0.98    540000\n",
            "\n"
          ]
        }
      ]
    },
    {
      "cell_type": "markdown",
      "source": [
        "### Модель с несколькими BIGRU слоями."
      ],
      "metadata": {
        "id": "TxIs1rm47CJF"
      }
    },
    {
      "cell_type": "code",
      "source": [
        "inputs = tf.keras.layers.Input(shape=(MAX_LEN,))\n",
        "embeddings = tf.keras.layers.Embedding(input_dim=len(word2id), output_dim=100)(inputs)\n",
        "\n",
        "bigru_1 = tf.keras.layers.Bidirectional(tf.keras.layers.GRU(128, return_sequences=True))(embeddings)\n",
        "bigru_2 = tf.keras.layers.Bidirectional(tf.keras.layers.GRU(128, return_sequences=True))(bigru_1)\n",
        "bigru_3 = tf.keras.layers.Bidirectional(tf.keras.layers.GRU(128, return_sequences=True))(bigru_2)\n",
        "\n",
        "outputs = tf.keras.layers.Dense(len(label2id), activation='softmax')(bigru_3)\n",
        "\n",
        "model_22 = tf.keras.Model(inputs=inputs, outputs=outputs)\n",
        "model_22.compile(optimizer='adam',\n",
        "              loss='sparse_categorical_crossentropy', \n",
        "             metrics=['accuracy'])"
      ],
      "metadata": {
        "id": "ajUkUgrk7Im4"
      },
      "execution_count": 44,
      "outputs": []
    },
    {
      "cell_type": "code",
      "source": [
        "model_22.fit(X_train, y_train, \n",
        "          validation_data=(X_test, y_test),\n",
        "          batch_size=128,\n",
        "         epochs=5)"
      ],
      "metadata": {
        "id": "sCWE2Ry37bGa"
      },
      "execution_count": null,
      "outputs": []
    },
    {
      "cell_type": "code",
      "source": [
        "plt.plot(model_22.history.history['accuracy'])\n",
        "plt.plot(model_22.history.history['val_accuracy'])\n",
        "plt.title('model with 3 bigru layers acc')\n",
        "plt.ylabel('accuracy')\n",
        "plt.xlabel('epoch')\n",
        "plt.legend(['train', 'val'], loc='upper left')\n",
        "plt.show()"
      ],
      "metadata": {
        "colab": {
          "base_uri": "https://localhost:8080/",
          "height": 295
        },
        "id": "169G8lYY7egT",
        "outputId": "307502d1-91bc-41c6-d3e9-9cfe2ff143f2"
      },
      "execution_count": 46,
      "outputs": [
        {
          "output_type": "display_data",
          "data": {
            "text/plain": [
              "<Figure size 432x288 with 1 Axes>"
            ],
            "image/png": "[encoded data removed]"
          },
          "metadata": {
            "needs_background": "light"
          }
        }
      ]
    },
    {
      "cell_type": "code",
      "source": [
        "y_preds2 = model_22.predict(X_test).argmax(2)"
      ],
      "metadata": {
        "colab": {
          "base_uri": "https://localhost:8080/"
        },
        "id": "LIQqtdxU7hvy",
        "outputId": "c608ee45-f123-40a9-c991-7ba87b1a0440"
      },
      "execution_count": 47,
      "outputs": [
        {
          "output_type": "stream",
          "name": "stdout",
          "text": [
            "313/313 [==============================] - 5s 9ms/step\n"
          ]
        }
      ]
    },
    {
      "cell_type": "code",
      "source": [
        "print(classification_report(y_test.reshape(-1), y_preds2.reshape(-1), labels=list(id2labels.keys()),\n",
        "                                                                     target_names=list(id2labels.values()),\n",
        "                                                                     zero_division=0))"
      ],
      "metadata": {
        "colab": {
          "base_uri": "https://localhost:8080/"
        },
        "id": "Ce3jlGPa7mtX",
        "outputId": "96fdd514-b230-4c49-9c12-f2a14b0c3455"
      },
      "execution_count": 48,
      "outputs": [
        {
          "output_type": "stream",
          "name": "stdout",
          "text": [
            "              precision    recall  f1-score   support\n",
            "\n",
            "           O       0.95      0.92      0.93     40480\n",
            "       B-PER       0.93      0.69      0.79      3542\n",
            "       I-PER       0.95      0.74      0.83      7544\n",
            "       B-ORG       0.49      0.80      0.60      4074\n",
            "       I-ORG       0.72      0.82      0.77      8008\n",
            "       B-LOC       0.67      0.77      0.72      4560\n",
            "       I-LOC       0.90      0.69      0.78      3060\n",
            "         PAD       1.00      1.00      1.00    468732\n",
            "\n",
            "    accuracy                           0.98    540000\n",
            "   macro avg       0.82      0.80      0.80    540000\n",
            "weighted avg       0.98      0.98      0.98    540000\n",
            "\n"
          ]
        }
      ]
    },
    {
      "cell_type": "markdown",
      "source": [
        "Судя по метрикам, качество моделей практически не отличается: первая модель чуть лучше предсказывает организации (B-ORG и I-ORG), у второй чуть выше показатели на местах (B-LOC и I-LOC), но значение взвешенного f-1 score = 0.98 для обеих моделей. \n",
        "Проверим, так ли это, на нескольких реальных примерах."
      ],
      "metadata": {
        "id": "vqVMjzbK8cDP"
      }
    },
    {
      "cell_type": "code",
      "source": [
        "def tokenize(text, word2id):\n",
        "    # токенизирует и переводит в индексы\n",
        "    tokens = re.findall('\\w+|[^\\w\\s]+', text)\n",
        "    ids = [word2id.get(token.lower(), 1) for token in tokens]\n",
        "    return tokens, ids\n",
        "\n",
        "def pred2tags(pred, id2label, length):\n",
        "    # декодирует индексы в части речи\n",
        "    # length нужно чтобы откидывать паддинги или некорректные предсказания\n",
        "    pred = pred.argmax(2)[0, :length]\n",
        "    labels = [id2label[l] for l in pred]\n",
        "    return labels\n",
        "\n",
        "def label_seq(text, word2id, id2label, max_len, model):\n",
        "    tokens, ids = tokenize(text, word2id)\n",
        "    pred = model.predict(tf.keras.preprocessing.sequence.pad_sequences([ids], \n",
        "                                                                       maxlen=max_len, \n",
        "                                                                       padding='post'))\n",
        "    labels = pred2tags(pred, id2label, len(ids))\n",
        "    \n",
        "    return list(zip(tokens, labels))"
      ],
      "metadata": {
        "id": "WApChC2C9wMe"
      },
      "execution_count": 49,
      "outputs": []
    },
    {
      "cell_type": "markdown",
      "source": [
        "### Предсказания именованных сущностей"
      ],
      "metadata": {
        "id": "eXTsZNr997Bd"
      }
    },
    {
      "cell_type": "code",
      "source": [
        "label_seq('Таня, Маша, Даша, Ксюша, Анна Петровна, юра', word2id, id2labels, MAX_LEN, model_21)"
      ],
      "metadata": {
        "colab": {
          "base_uri": "https://localhost:8080/"
        },
        "id": "XAJVuPNc_2Ip",
        "outputId": "f9d6f464-693c-48fd-b964-6b93648d0a12"
      },
      "execution_count": 65,
      "outputs": [
        {
          "output_type": "stream",
          "name": "stdout",
          "text": [
            "1/1 [==============================] - 0s 28ms/step\n"
          ]
        },
        {
          "output_type": "execute_result",
          "data": {
            "text/plain": [
              "[('Таня', 'B-PER'),\n",
              " (',', 'I-PER'),\n",
              " ('Маша', 'I-PER'),\n",
              " (',', 'O'),\n",
              " ('Даша', 'O'),\n",
              " (',', 'O'),\n",
              " ('Ксюша', 'O'),\n",
              " (',', 'O'),\n",
              " ('Анна', 'B-PER'),\n",
              " ('Петровна', 'I-PER'),\n",
              " (',', 'O'),\n",
              " ('юра', 'I-PER')]"
            ]
          },
          "metadata": {},
          "execution_count": 65
        }
      ]
    },
    {
      "cell_type": "code",
      "source": [
        "label_seq('Таня, Маша, Даша, Ксюша, Анна Петровна, юра', word2id, id2labels, MAX_LEN, model_22)"
      ],
      "metadata": {
        "colab": {
          "base_uri": "https://localhost:8080/"
        },
        "id": "_a37iz69_8dv",
        "outputId": "36088ef8-7d72-4bac-8d20-ceff58d575f2"
      },
      "execution_count": 66,
      "outputs": [
        {
          "output_type": "stream",
          "name": "stdout",
          "text": [
            "1/1 [==============================] - 0s 27ms/step\n"
          ]
        },
        {
          "output_type": "execute_result",
          "data": {
            "text/plain": [
              "[('Таня', 'B-PER'),\n",
              " (',', 'O'),\n",
              " ('Маша', 'I-PER'),\n",
              " (',', 'O'),\n",
              " ('Даша', 'B-PER'),\n",
              " (',', 'O'),\n",
              " ('Ксюша', 'B-LOC'),\n",
              " (',', 'O'),\n",
              " ('Анна', 'B-PER'),\n",
              " ('Петровна', 'I-PER'),\n",
              " (',', 'O'),\n",
              " ('юра', 'O')]"
            ]
          },
          "metadata": {},
          "execution_count": 66
        }
      ]
    },
    {
      "cell_type": "markdown",
      "source": [
        "- Обе модели не считают Ксюшу человеком :( Модель с bilstm просто не определила ее как именованную сущность (как и Дашу), модель с bigru приняла ее за место. \n",
        "- Bilstm модель определила запятую как PER, что странно.\n",
        "- Bigru модель не распознала юру с маленькой буквы, bilstm распознала как I-PER\n",
        "- Обе модели верно распознали Анну Петровну (B-PER + I-PER)"
      ],
      "metadata": {
        "id": "BHmMD1eQ_-at"
      }
    },
    {
      "cell_type": "code",
      "source": [
        "label_seq('Премьер-министр Великобритании Сунак подписал договор.', word2id, id2labels, MAX_LEN, model_21)"
      ],
      "metadata": {
        "colab": {
          "base_uri": "https://localhost:8080/"
        },
        "id": "ctz-5wNW-dE-",
        "outputId": "f4b6c2b5-a33c-40c3-9a0c-7872fac40bde"
      },
      "execution_count": 67,
      "outputs": [
        {
          "output_type": "stream",
          "name": "stdout",
          "text": [
            "1/1 [==============================] - 0s 36ms/step\n"
          ]
        },
        {
          "output_type": "execute_result",
          "data": {
            "text/plain": [
              "[('Премьер', 'B-ORG'),\n",
              " ('-', 'O'),\n",
              " ('министр', 'B-ORG'),\n",
              " ('Великобритании', 'I-ORG'),\n",
              " ('Сунак', 'I-ORG'),\n",
              " ('подписал', 'I-ORG'),\n",
              " ('договор', 'I-ORG'),\n",
              " ('.', 'O')]"
            ]
          },
          "metadata": {},
          "execution_count": 67
        }
      ]
    },
    {
      "cell_type": "code",
      "source": [
        "label_seq('Премьер-министр Великобритании Сунак подписал договор.', word2id, id2labels, MAX_LEN, model_22)"
      ],
      "metadata": {
        "colab": {
          "base_uri": "https://localhost:8080/"
        },
        "id": "RH8z5pDl-sxr",
        "outputId": "f774d6e8-8c77-4e3f-d8ea-f9ff8975c93b"
      },
      "execution_count": 68,
      "outputs": [
        {
          "output_type": "stream",
          "name": "stdout",
          "text": [
            "1/1 [==============================] - 0s 27ms/step\n"
          ]
        },
        {
          "output_type": "execute_result",
          "data": {
            "text/plain": [
              "[('Премьер', 'B-ORG'),\n",
              " ('-', 'O'),\n",
              " ('министр', 'O'),\n",
              " ('Великобритании', 'B-ORG'),\n",
              " ('Сунак', 'I-ORG'),\n",
              " ('подписал', 'O'),\n",
              " ('договор', 'B-ORG'),\n",
              " ('.', 'O')]"
            ]
          },
          "metadata": {},
          "execution_count": 68
        }
      ]
    },
    {
      "cell_type": "markdown",
      "source": [
        "Здесь у обеих моделей все плохо - почти все распознают как ORG, и страну, и человека, и неименованные сущности, вроде договора."
      ],
      "metadata": {
        "id": "MqKqCA-iBWGu"
      }
    },
    {
      "cell_type": "code",
      "source": [
        "label_seq('МГЛУ имени Мориса Тореза - лучший лингвистический университет в Москве.', word2id, id2labels, MAX_LEN, model_21)"
      ],
      "metadata": {
        "colab": {
          "base_uri": "https://localhost:8080/"
        },
        "id": "oKYNUIa5_kmf",
        "outputId": "daed8d8e-842f-4b80-dc78-33f388a0c2b9"
      },
      "execution_count": 78,
      "outputs": [
        {
          "output_type": "stream",
          "name": "stdout",
          "text": [
            "1/1 [==============================] - 0s 38ms/step\n"
          ]
        },
        {
          "output_type": "execute_result",
          "data": {
            "text/plain": [
              "[('МГЛУ', 'B-ORG'),\n",
              " ('имени', 'I-ORG'),\n",
              " ('Мориса', 'I-ORG'),\n",
              " ('Тореза', 'I-ORG'),\n",
              " ('-', 'O'),\n",
              " ('лучший', 'O'),\n",
              " ('лингвистический', 'O'),\n",
              " ('университет', 'B-ORG'),\n",
              " ('в', 'O'),\n",
              " ('Москве', 'B-ORG'),\n",
              " ('.', 'O')]"
            ]
          },
          "metadata": {},
          "execution_count": 78
        }
      ]
    },
    {
      "cell_type": "code",
      "source": [
        "label_seq('МГЛУ имени Мориса Тореза - лучший лингвистический университет в Москве.', word2id, id2labels, MAX_LEN, model_22)"
      ],
      "metadata": {
        "colab": {
          "base_uri": "https://localhost:8080/"
        },
        "id": "bATZY6Uw_swx",
        "outputId": "b83511cd-7a31-4a49-9977-cbc690e3d9fb"
      },
      "execution_count": 80,
      "outputs": [
        {
          "output_type": "stream",
          "name": "stdout",
          "text": [
            "1/1 [==============================] - 0s 71ms/step\n"
          ]
        },
        {
          "output_type": "execute_result",
          "data": {
            "text/plain": [
              "[('МГЛУ', 'B-ORG'),\n",
              " ('имени', 'I-ORG'),\n",
              " ('Мориса', 'I-ORG'),\n",
              " ('Тореза', 'I-ORG'),\n",
              " ('-', 'O'),\n",
              " ('лучший', 'O'),\n",
              " ('лингвистический', 'B-ORG'),\n",
              " ('университет', 'I-ORG'),\n",
              " ('в', 'O'),\n",
              " ('Москве', 'B-LOC'),\n",
              " ('.', 'O')]"
            ]
          },
          "metadata": {},
          "execution_count": 80
        }
      ]
    },
    {
      "cell_type": "markdown",
      "source": [
        "А здесь обе справились с полным названием организации! Второй модели удалось верно предсказать Москву как LOC."
      ],
      "metadata": {
        "id": "H9pClnmjCQ2u"
      }
    },
    {
      "cell_type": "code",
      "source": [
        "label_seq('В столице Испании Мадриде состоялась выставка Пикассо.', word2id, id2labels, MAX_LEN, model_21)"
      ],
      "metadata": {
        "colab": {
          "base_uri": "https://localhost:8080/"
        },
        "id": "NPM2GDSv-23E",
        "outputId": "bc70bd6d-b1a7-4069-cd84-00fe0a7e03b2"
      },
      "execution_count": 71,
      "outputs": [
        {
          "output_type": "stream",
          "name": "stdout",
          "text": [
            "1/1 [==============================] - 0s 30ms/step\n"
          ]
        },
        {
          "output_type": "execute_result",
          "data": {
            "text/plain": [
              "[('В', 'O'),\n",
              " ('столице', 'O'),\n",
              " ('Испании', 'B-LOC'),\n",
              " ('Мадриде', 'O'),\n",
              " ('состоялась', 'O'),\n",
              " ('выставка', 'O'),\n",
              " ('Пикассо', 'B-LOC'),\n",
              " ('.', 'O')]"
            ]
          },
          "metadata": {},
          "execution_count": 71
        }
      ]
    },
    {
      "cell_type": "code",
      "source": [
        "label_seq('В столице Испании Мадриде состоялась выставка Пикассо.', word2id, id2labels, MAX_LEN, model_22)"
      ],
      "metadata": {
        "colab": {
          "base_uri": "https://localhost:8080/"
        },
        "id": "InQyeJ3q_A4E",
        "outputId": "255459ff-7b72-408b-88f7-2121e7e8d1ae"
      },
      "execution_count": 72,
      "outputs": [
        {
          "output_type": "stream",
          "name": "stdout",
          "text": [
            "1/1 [==============================] - 0s 31ms/step\n"
          ]
        },
        {
          "output_type": "execute_result",
          "data": {
            "text/plain": [
              "[('В', 'O'),\n",
              " ('столице', 'O'),\n",
              " ('Испании', 'B-ORG'),\n",
              " ('Мадриде', 'I-ORG'),\n",
              " ('состоялась', 'O'),\n",
              " ('выставка', 'O'),\n",
              " ('Пикассо', 'B-ORG'),\n",
              " ('.', 'O')]"
            ]
          },
          "metadata": {},
          "execution_count": 72
        }
      ]
    },
    {
      "cell_type": "markdown",
      "source": [
        "- Модель с Bigru не предсказала ни места, ни человека - все определила как ORG.\n",
        "- Модель с Bilstm почему-то определила Испанию, но не определила Мадрид. Пикассо определили как именованную сущность, но не PER, а LOC."
      ],
      "metadata": {
        "id": "Dbvrt_0fCbH0"
      }
    },
    {
      "cell_type": "code",
      "source": [
        "label_seq('Франсиско Франко был диктатором Испании в 20 веке.', word2id, id2labels, MAX_LEN, model_21)"
      ],
      "metadata": {
        "colab": {
          "base_uri": "https://localhost:8080/"
        },
        "id": "peDADv0pDRpG",
        "outputId": "d4dcdafc-8d7e-4e0d-d802-0c571c150c04"
      },
      "execution_count": 76,
      "outputs": [
        {
          "output_type": "stream",
          "name": "stdout",
          "text": [
            "1/1 [==============================] - 0s 94ms/step\n"
          ]
        },
        {
          "output_type": "execute_result",
          "data": {
            "text/plain": [
              "[('Франсиско', 'B-PER'),\n",
              " ('Франко', 'I-PER'),\n",
              " ('был', 'O'),\n",
              " ('диктатором', 'O'),\n",
              " ('Испании', 'B-ORG'),\n",
              " ('в', 'O'),\n",
              " ('20', 'B-PER'),\n",
              " ('веке', 'I-PER'),\n",
              " ('.', 'O')]"
            ]
          },
          "metadata": {},
          "execution_count": 76
        }
      ]
    },
    {
      "cell_type": "code",
      "source": [
        "label_seq('Франсиско Франко был диктатором Испании в 20 веке.', word2id, id2labels, MAX_LEN, model_22)"
      ],
      "metadata": {
        "colab": {
          "base_uri": "https://localhost:8080/"
        },
        "id": "p2JzdGSHDcdu",
        "outputId": "fa3d1f18-59d4-411b-b6dc-ac8fb0f1abf5"
      },
      "execution_count": 77,
      "outputs": [
        {
          "output_type": "stream",
          "name": "stdout",
          "text": [
            "1/1 [==============================] - 0s 32ms/step\n"
          ]
        },
        {
          "output_type": "execute_result",
          "data": {
            "text/plain": [
              "[('Франсиско', 'B-PER'),\n",
              " ('Франко', 'I-PER'),\n",
              " ('был', 'O'),\n",
              " ('диктатором', 'B-ORG'),\n",
              " ('Испании', 'I-ORG'),\n",
              " ('в', 'O'),\n",
              " ('20', 'B-ORG'),\n",
              " ('веке', 'I-ORG'),\n",
              " ('.', 'O')]"
            ]
          },
          "metadata": {},
          "execution_count": 77
        }
      ]
    },
    {
      "cell_type": "code",
      "source": [
        "label_seq('Сан-Франциско - город диско', word2id, id2labels, MAX_LEN, model_21)"
      ],
      "metadata": {
        "colab": {
          "base_uri": "https://localhost:8080/"
        },
        "id": "doHl8tUHFD5U",
        "outputId": "9bad4003-55f0-45b0-f65d-bb3d84dc1ab0"
      },
      "execution_count": 81,
      "outputs": [
        {
          "output_type": "stream",
          "name": "stdout",
          "text": [
            "1/1 [==============================] - 0s 82ms/step\n"
          ]
        },
        {
          "output_type": "execute_result",
          "data": {
            "text/plain": [
              "[('Сан', 'B-PER'),\n",
              " ('-', 'O'),\n",
              " ('Франциско', 'I-PER'),\n",
              " ('-', 'O'),\n",
              " ('город', 'O'),\n",
              " ('диско', 'O')]"
            ]
          },
          "metadata": {},
          "execution_count": 81
        }
      ]
    },
    {
      "cell_type": "code",
      "source": [
        "label_seq('Сан-Франциско - город диско', word2id, id2labels, MAX_LEN, model_22)"
      ],
      "metadata": {
        "colab": {
          "base_uri": "https://localhost:8080/"
        },
        "id": "9lJw3nUZFJJo",
        "outputId": "bc5eb428-37f1-4482-b7ba-1068b0b0008a"
      },
      "execution_count": 82,
      "outputs": [
        {
          "output_type": "stream",
          "name": "stdout",
          "text": [
            "1/1 [==============================] - 0s 43ms/step\n"
          ]
        },
        {
          "output_type": "execute_result",
          "data": {
            "text/plain": [
              "[('Сан', 'B-ORG'),\n",
              " ('-', 'O'),\n",
              " ('Франциско', 'O'),\n",
              " ('-', 'O'),\n",
              " ('город', 'O'),\n",
              " ('диско', 'B-LOC')]"
            ]
          },
          "metadata": {},
          "execution_count": 82
        }
      ]
    },
    {
      "cell_type": "markdown",
      "source": [
        "Чисто теоретически, Сан-Франциско действительно может оказаться Святым Франциском - наверное, первая модель (bilstm) справилась здесь лучше."
      ],
      "metadata": {
        "id": "dwO1b9gdFPS3"
      }
    },
    {
      "cell_type": "markdown",
      "source": [
        "### Выводы"
      ],
      "metadata": {
        "id": "ZGx1HaokDHFy"
      }
    },
    {
      "cell_type": "markdown",
      "source": [
        "- Предсказания обеих моделей далеки от идеала - чувствуется, что для обучения был взят корпус Википедии, так как исторических личностей они предсказывают гораздо лучше, чем простые имена вроде Ксюши или Юры.\n",
        "- По метрикам самыми низкими были предсказания организаций - возможно потому, что слишком часто другие именованные (и неименованные) сущности предсказываются как ORG.\n",
        "- С PER лучше справляется модель с bilstm, с LOC скорее вторая модель."
      ],
      "metadata": {
        "id": "_8WvUc9VDJJt"
      }
    }
  ]
}